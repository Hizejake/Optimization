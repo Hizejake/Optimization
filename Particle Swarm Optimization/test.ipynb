{
 "cells": [
  {
   "cell_type": "code",
   "execution_count": 50,
   "metadata": {},
   "outputs": [],
   "source": [
    "import numpy as np"
   ]
  },
  {
   "cell_type": "code",
   "execution_count": 51,
   "metadata": {},
   "outputs": [],
   "source": [
    "def rastrigin(X):\n",
    "    if isinstance(X[0], (int, float)):\n",
    "        X = [[X[i]] for i in range(len(X))]\n",
    "    \n",
    "    val = []\n",
    "    for xi in X:\n",
    "        fx = 10 * len(xi) + sum(np.array(xi) ** 2 - 10 * np.cos(2 * np.pi * np.array(xi)))\n",
    "        val.append(fx)\n",
    "    return np.array(val)\n"
   ]
  },
  {
   "cell_type": "code",
   "execution_count": 52,
   "metadata": {},
   "outputs": [],
   "source": [
    "\n",
    "def generate_particle(num_variables, swarm_size, x_min, x_max):\n",
    "    swarm = np.random.uniform(x_min, x_max, (swarm_size, num_variables))\n",
    "    velocity = np.zeros_like(swarm)\n",
    "    return swarm, velocity"
   ]
  },
  {
   "cell_type": "code",
   "execution_count": 53,
   "metadata": {},
   "outputs": [],
   "source": [
    "def pso1(num_iterations, swarm_size, num_variables, x_min, x_max, alpha, beta, gamma, epsilon):\n",
    "    swarm, velocity = generate_particle(num_variables, swarm_size, x_min, x_max)\n",
    "    swarm_positions = [swarm.tolist()]\n",
    "\n",
    "    for i in range(num_iterations):\n",
    "        swarm2 = swarm + epsilon * velocity\n",
    "        swarm2 = np.clip(swarm2, x_min, x_max)\n",
    "        \n",
    "        dicx = {tuple(swarm[i]): rastrigin([swarm[i]])[0] for i in range(swarm_size)}\n",
    "        dicy = {tuple(swarm2[i]): rastrigin([swarm2[i]])[0] for i in range(swarm_size)}\n",
    "\n",
    "        if i == 0:\n",
    "            local_best = swarm\n",
    "            global_best = list(min(dicx, key=dicx.get))\n",
    "        else:\n",
    "            for j in range(swarm_size):\n",
    "                key1, value1 = list(dicx.items())[j]\n",
    "                key2, value2 = list(dicy.items())[j]\n",
    "                \n",
    "                local_best[j] = list(key2) if value2 < value1 else list(key1)\n",
    "                \n",
    "                global_best = list(min(dicy, key=dicy.get)) if min(dicy.values()) < min(dicx.values()) else list(min(dicx, key=dicx.get))\n",
    "\n",
    "        velocity = (alpha * velocity + np.random.uniform(0, beta) * (np.array(local_best) - np.array(swarm)) + np.random.uniform(0, gamma) * (np.full_like(swarm, global_best) - np.array(swarm)))\n",
    "        swarm = swarm2\n",
    "        swarm_positions.append(swarm.tolist())\n",
    "        \n",
    "    return global_best, swarm_positions"
   ]
  },
  {
   "cell_type": "code",
   "execution_count": 54,
   "metadata": {},
   "outputs": [],
   "source": [
    "num_iterations = 150\n",
    "swarm_size = 50\n",
    "num_variables = 2\n",
    "x_min = -5.12\n",
    "x_max = 5.12\n",
    "alpha = 0.5\n",
    "beta = 0.3\n",
    "gamma = 0.9\n",
    "epsilon = 0.1"
   ]
  },
  {
   "cell_type": "code",
   "execution_count": 55,
   "metadata": {},
   "outputs": [],
   "source": [
    "global_best, swarm_positions = pso1(num_iterations, swarm_size, num_variables, x_min, x_max, alpha, beta, gamma, epsilon)"
   ]
  },
  {
   "cell_type": "code",
   "execution_count": 56,
   "metadata": {},
   "outputs": [
    {
     "data": {
      "text/plain": [
       "[0.004559008585728678, 0.014892528159892286]"
      ]
     },
     "execution_count": 56,
     "metadata": {},
     "output_type": "execute_result"
    }
   ],
   "source": [
    "global_best"
   ]
  }
 ],
 "metadata": {
  "kernelspec": {
   "display_name": "base",
   "language": "python",
   "name": "python3"
  },
  "language_info": {
   "codemirror_mode": {
    "name": "ipython",
    "version": 3
   },
   "file_extension": ".py",
   "mimetype": "text/x-python",
   "name": "python",
   "nbconvert_exporter": "python",
   "pygments_lexer": "ipython3",
   "version": "3.11.5"
  }
 },
 "nbformat": 4,
 "nbformat_minor": 2
}
