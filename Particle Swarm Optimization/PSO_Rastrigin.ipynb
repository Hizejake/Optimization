{
 "cells": [
  {
   "cell_type": "code",
   "metadata": {},
   "source": "import numpy as np\n",
   "outputs": [],
   "execution_count": null
  },
  {
   "cell_type": "markdown",
   "metadata": {},
   "source": [
    "# Define Rastrigin Function\n"
   ]
  },
  {
   "metadata": {},
   "cell_type": "code",
   "source": [
    "def rastrigin(X):\n",
    "    if isinstance(X[0],(int,float)):\n",
    "        X = [[X[i]] for i in range(len(X))]\n",
    "    \n",
    "    val = []\n",
    "    for xi in X:\n",
    "        fx = 10 * len(xi) + sum(np.array(xi) ** 2 - 10 * np.cos(2 * np.pi * np.array(xi)))\n",
    "        val.append(fx)\n",
    "    return np.array(val)"
   ],
   "outputs": [],
   "execution_count": null
  },
  {
   "cell_type": "code",
   "metadata": {},
   "source": [
    "input_values_2d = [\n",
    "    [0, 0],\n",
    "    [1, 1],\n",
    "    [-1, -1],\n",
    "    [2, 2],\n",
    "    [-2, -2],\n",
    "    [0.5, 0.5],\n",
    "    [-0.5, -0.5],\n",
    "    [3, 3],\n",
    "    [-3, -3],\n",
    "    [2.5, -2.5]\n",
    "]\n",
    "input_values_1d = [0, 1, -1, 2, -2, 0.5, -0.5, 3, -3, 2.5]\n",
    "\n",
    "\n",
    "print(rastrigin(input_values_1d))\n",
    "rastrigin(input_values_2d)"
   ],
   "outputs": [],
   "execution_count": null
  },
  {
   "cell_type": "markdown",
   "metadata": {},
   "source": [
    "# Initiate population"
   ]
  },
  {
   "cell_type": "code",
   "metadata": {
    "ExecuteTime": {
     "end_time": "2024-10-14T12:32:11.789417Z",
     "start_time": "2024-10-14T12:32:11.785262Z"
    }
   },
   "source": [
    "def generate_particle(num_variables,swarm_size,x_min,x_max):\n",
    "    X = []\n",
    "    for i in range(swarm_size):\n",
    "        Xi = []\n",
    "        for j in range(num_variables):\n",
    "            Xi.append(int(np.random.uniform(x_min,x_max)))  #testing with integers so easier to crosscheck\n",
    "        X.append(np.array(Xi))\n",
    "\n",
    "    velocity =  np.array(X)\n",
    "    velocity[:] = 0\n",
    "    \n",
    "    return np.array(X),np.array(velocity)"
   ],
   "outputs": [],
   "execution_count": 9
  },
  {
   "metadata": {
    "ExecuteTime": {
     "end_time": "2024-10-14T12:36:49.015742Z",
     "start_time": "2024-10-14T12:36:48.987386Z"
    }
   },
   "cell_type": "code",
   "source": [
    "particle_test,velocity_test = generate_particle(2,10,-5,5)\n",
    "# print(particle_test)\n",
    "# print(velocity_test)\n",
    "\n",
    "# rastrigin(particle_test)\n",
    "for i in particle_test:\n",
    "    print(rastrigin(i))\n",
    "my_dict = {tuple(i) : rastrigin(i) for i in particle_test}\n",
    "print(my_dict)"
   ],
   "outputs": [
    {
     "ename": "TypeError",
     "evalue": "object of type 'numpy.int32' has no len()",
     "output_type": "error",
     "traceback": [
      "\u001B[1;31m---------------------------------------------------------------------------\u001B[0m",
      "\u001B[1;31mTypeError\u001B[0m                                 Traceback (most recent call last)",
      "Cell \u001B[1;32mIn[15], line 7\u001B[0m\n\u001B[0;32m      2\u001B[0m \u001B[38;5;66;03m# print(particle_test)\u001B[39;00m\n\u001B[0;32m      3\u001B[0m \u001B[38;5;66;03m# print(velocity_test)\u001B[39;00m\n\u001B[0;32m      4\u001B[0m \n\u001B[0;32m      5\u001B[0m \u001B[38;5;66;03m# rastrigin(particle_test)\u001B[39;00m\n\u001B[0;32m      6\u001B[0m \u001B[38;5;28;01mfor\u001B[39;00m i \u001B[38;5;129;01min\u001B[39;00m particle_test:\n\u001B[1;32m----> 7\u001B[0m     \u001B[38;5;28mprint\u001B[39m(\u001B[43mrastrigin\u001B[49m\u001B[43m(\u001B[49m\u001B[43mi\u001B[49m\u001B[43m)\u001B[49m)\n\u001B[0;32m      8\u001B[0m my_dict \u001B[38;5;241m=\u001B[39m {\u001B[38;5;28mtuple\u001B[39m(i) : rastrigin(i) \u001B[38;5;28;01mfor\u001B[39;00m i \u001B[38;5;129;01min\u001B[39;00m particle_test}\n\u001B[0;32m      9\u001B[0m \u001B[38;5;28mprint\u001B[39m(my_dict)\n",
      "Cell \u001B[1;32mIn[2], line 7\u001B[0m, in \u001B[0;36mrastrigin\u001B[1;34m(X)\u001B[0m\n\u001B[0;32m      5\u001B[0m val \u001B[38;5;241m=\u001B[39m []\n\u001B[0;32m      6\u001B[0m \u001B[38;5;28;01mfor\u001B[39;00m xi \u001B[38;5;129;01min\u001B[39;00m X:\n\u001B[1;32m----> 7\u001B[0m     fx \u001B[38;5;241m=\u001B[39m \u001B[38;5;241m10\u001B[39m \u001B[38;5;241m*\u001B[39m \u001B[38;5;28mlen\u001B[39m(xi) \u001B[38;5;241m+\u001B[39m \u001B[38;5;28msum\u001B[39m(np\u001B[38;5;241m.\u001B[39marray(xi) \u001B[38;5;241m*\u001B[39m\u001B[38;5;241m*\u001B[39m \u001B[38;5;241m2\u001B[39m \u001B[38;5;241m-\u001B[39m \u001B[38;5;241m10\u001B[39m \u001B[38;5;241m*\u001B[39m np\u001B[38;5;241m.\u001B[39mcos(\u001B[38;5;241m2\u001B[39m \u001B[38;5;241m*\u001B[39m np\u001B[38;5;241m.\u001B[39mpi \u001B[38;5;241m*\u001B[39m np\u001B[38;5;241m.\u001B[39marray(xi)))\n\u001B[0;32m      8\u001B[0m     val\u001B[38;5;241m.\u001B[39mappend(fx)\n\u001B[0;32m      9\u001B[0m \u001B[38;5;28;01mreturn\u001B[39;00m np\u001B[38;5;241m.\u001B[39marray(val)\n",
      "\u001B[1;31mTypeError\u001B[0m: object of type 'numpy.int32' has no len()"
     ]
    }
   ],
   "execution_count": 15
  },
  {
   "metadata": {},
   "cell_type": "code",
   "source": [
    "def local_best(X):\n",
    "    \n",
    "    pass"
   ],
   "outputs": [],
   "execution_count": null
  },
  {
   "cell_type": "markdown",
   "metadata": {},
   "source": "# Particle Swarm Optimisation"
  },
  {
   "metadata": {},
   "cell_type": "markdown",
   "source": [
    "1: swarmsize ← desired swarm size \n",
    "\n",
    "2: α ← proportion of velocity to be retained\n",
    "\n",
    "3: β ← proportion of personal best to be retained\n",
    "\n",
    "4: γ ← proportion of the informants’ best to be retained\n",
    "\n",
    "5: δ ← proportion of global best to be retained\n",
    "\n",
    "6: e ← jump size of a particle\n"
   ]
  },
  {
   "metadata": {},
   "cell_type": "code",
   "source": "",
   "outputs": [],
   "execution_count": null
  },
  {
   "cell_type": "code",
   "metadata": {},
   "source": [
    "def pso(num_iterations,swarm_size,num_variables,x_min,x_max,alpha,beta,gamma,delta,epsilon):\n",
    "    swarm,velocity = generate_particle(num_variables,swarm_size,x_min,x_max)\n",
    "    \n",
    "    loc_best = []\n",
    "    glo_best = 0\n",
    "    \n",
    "    for i in range(num_iterations):\n",
    "        fitness = rastrigin(swarm)\n",
    "        if i == 1:\n",
    "            loc_best = swarm\n",
    "            \n",
    "        else:\n",
    "            for j in range(swarm_size):\n",
    "                if rastrigin(swarm[j]) < fitness[j]:\n",
    "                    loc_best[j] = swarm[j]\n",
    "\n",
    "                \n",
    "                \n",
    "                \n",
    "                    \n",
    "    \n",
    "    pass   "
   ],
   "outputs": [],
   "execution_count": null
  },
  {
   "cell_type": "code",
   "metadata": {},
   "source": [],
   "outputs": [],
   "execution_count": null
  }
 ],
 "metadata": {
  "kernelspec": {
   "display_name": "base",
   "language": "python",
   "name": "python3"
  },
  "language_info": {
   "codemirror_mode": {
    "name": "ipython",
    "version": 3
   },
   "file_extension": ".py",
   "mimetype": "text/x-python",
   "name": "python",
   "nbconvert_exporter": "python",
   "pygments_lexer": "ipython3",
   "version": "3.11.7"
  }
 },
 "nbformat": 4,
 "nbformat_minor": 2
}
