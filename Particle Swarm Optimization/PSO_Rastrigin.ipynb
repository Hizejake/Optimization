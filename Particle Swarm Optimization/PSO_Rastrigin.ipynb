{
 "cells": [
  {
   "cell_type": "code",
   "execution_count": 32,
   "metadata": {
    "ExecuteTime": {
     "end_time": "2024-10-14T21:53:37.930797Z",
     "start_time": "2024-10-14T21:53:37.928935Z"
    }
   },
   "outputs": [],
   "source": [
    "import numpy as np\n"
   ]
  },
  {
   "cell_type": "markdown",
   "metadata": {},
   "source": [
    "# Define Rastrigin Function\n"
   ]
  },
  {
   "cell_type": "code",
   "execution_count": 33,
   "metadata": {
    "ExecuteTime": {
     "end_time": "2024-10-14T21:53:37.990939Z",
     "start_time": "2024-10-14T21:53:37.987925Z"
    }
   },
   "outputs": [],
   "source": [
    "def rastrigin(X):\n",
    "    if isinstance(X[0],(int,float)):\n",
    "        X = [[X[i]] for i in range(len(X))]\n",
    "    \n",
    "    val = []\n",
    "    for xi in X:\n",
    "        fx = 10 * len(xi) + sum(np.array(xi) ** 2 - 10 * np.cos(2 * np.pi * np.array(xi)))\n",
    "        val.append(fx)\n",
    "    return np.array(val)"
   ]
  },
  {
   "cell_type": "markdown",
   "metadata": {},
   "source": [
    "# Initiate population"
   ]
  },
  {
   "cell_type": "code",
   "execution_count": 34,
   "metadata": {
    "ExecuteTime": {
     "end_time": "2024-10-14T21:53:38.215641Z",
     "start_time": "2024-10-14T21:53:38.212974Z"
    }
   },
   "outputs": [],
   "source": [
    "def generate_particle(num_variables,swarm_size,x_min,x_max):\n",
    "    X = []\n",
    "    for i in range(swarm_size):\n",
    "        Xi = []\n",
    "        for j in range(num_variables):\n",
    "            Xi.append(np.random.uniform(x_min,x_max)) #testing with integers so easier to crosscheck\n",
    "        X.append(Xi)\n",
    "\n",
    "    velocity = np.zeros_like(X)\n",
    "\n",
    "    return X , velocity"
   ]
  },
  {
   "cell_type": "markdown",
   "metadata": {},
   "source": [
    "# Particle Swarm Optimisation"
   ]
  },
  {
   "cell_type": "code",
   "execution_count": 35,
   "metadata": {
    "ExecuteTime": {
     "end_time": "2024-10-14T21:53:38.498714Z",
     "start_time": "2024-10-14T21:53:38.496579Z"
    }
   },
   "outputs": [],
   "source": [
    "def pso1(num_iterations, swarm_size, num_variables, x_min, x_max, alpha, beta, gamma, epsilon):\n",
    "    \n",
    "    swarm, velocity = generate_particle(num_variables, swarm_size, x_min, x_max)\n",
    "\n",
    "    for i in range(num_iterations):\n",
    "        \n",
    "        swarm2 = swarm + epsilon * velocity\n",
    "        swarm2 = np.clip(swarm2,x_min,x_max)\n",
    "        \n",
    "        dicx = {tuple(swarm[i]): rastrigin(swarm)[i] for i in range(swarm_size)}\n",
    "        dicy = {tuple(swarm2[i]): rastrigin(swarm2)[i] for i in range(swarm_size)}\n",
    "\n",
    "        if i == 0:\n",
    "            \n",
    "            local_best = swarm\n",
    "            global_best = list(min(dicx, key=lambda k: dicx[k]))\n",
    "        else:\n",
    "            for j in range(swarm_size):\n",
    "                key1, value1 = list(dicx.items())[j]\n",
    "                key2, value2 = list(dicy.items())[j]\n",
    "                \n",
    "                local_best[j] = list(key2) if value2 < value1 else list(key1)\n",
    "                \n",
    "                global_best = list(min(dicy, key=lambda k: dicy[k])) if np.argmin(dicy) < np.argmin(dicx) else list(min(dicx, key=lambda k: dicx[k]))      \n",
    "\n",
    "        velocity = (alpha * velocity + np.random.uniform(0, beta) * (np.array(local_best) - np.array(swarm)) + np.random.uniform(0, gamma) * (np.full_like(swarm, global_best) - np.array(swarm)))\n",
    "\n",
    "    return global_best"
   ]
  },
  {
   "cell_type": "code",
   "execution_count": 36,
   "metadata": {
    "ExecuteTime": {
     "end_time": "2024-10-14T21:53:38.546891Z",
     "start_time": "2024-10-14T21:53:38.541550Z"
    }
   },
   "outputs": [],
   "source": [
    "\n",
    "def index_finder(arr):\n",
    "    mini = 0\n",
    "    for i in range(len(arr)):\n",
    "        if rastrigin(arr)[i] < rastrigin(arr)[mini]:\n",
    "            mini = i\n",
    "    return mini "
   ]
  },
  {
   "cell_type": "code",
   "execution_count": 37,
   "metadata": {
    "ExecuteTime": {
     "end_time": "2024-10-14T22:12:00.270546Z",
     "start_time": "2024-10-14T22:12:00.266871Z"
    }
   },
   "outputs": [],
   "source": [
    "def pso(num_iterations,swarm_size,num_variables,x_min,x_max,W,C1,C2,E):\n",
    "    swarm,velocity = generate_particle(num_variables,swarm_size,x_min,x_max)\n",
    "    local_best = np.copy(swarm)\n",
    "    global_best = np.full_like(local_best,local_best[index_finder(swarm)])\n",
    "    \n",
    "    for z in range(num_iterations):\n",
    "        swarm2 = swarm + (E * velocity)\n",
    "        swarm2 = np.clip(swarm2,x_min,x_max)\n",
    "        \n",
    "        ras_swarm = np.array(rastrigin(swarm))\n",
    "        ras_swarm2 = np.array(rastrigin(swarm2))\n",
    "        \n",
    "        for i in range(swarm_size):\n",
    "            if ras_swarm2[i] < ras_swarm[i]:\n",
    "                local_best[i] = swarm2[i]\n",
    "                continue\n",
    "            if min(ras_swarm2) < min(ras_swarm):\n",
    "                global_best = np.full_like(local_best,local_best[index_finder(swarm2)])\n",
    "                # print(global_best[0])\n",
    "                continue\n",
    "            \n",
    "        velocity = ((W*(W-.4)*velocity*z)/num_iterations) + C1 * np.random.uniform(0,1) * (local_best - swarm) + C2 * np.random.uniform(0,1) * (global_best - swarm)\n",
    "    \n",
    "    return global_best[0]"
   ]
  },
  {
   "cell_type": "code",
   "execution_count": 40,
   "metadata": {
    "ExecuteTime": {
     "end_time": "2024-10-14T22:00:49.327453Z",
     "start_time": "2024-10-14T21:56:09.265111Z"
    }
   },
   "outputs": [
    {
     "name": "stdout",
     "output_type": "stream",
     "text": [
      "[-0.06147722  1.20785164 -1.27568039 -3.15588275  2.08330847]\n"
     ]
    }
   ],
   "source": [
    "print(pso(100,50,5,-5.12,+5.12,.9,.2,.7,.2))"
   ]
  },
  {
   "cell_type": "code",
   "execution_count": 42,
   "metadata": {},
   "outputs": [
    {
     "name": "stdout",
     "output_type": "stream",
     "text": [
      "[-0.9871584416899384, 0.9973716924208286, -0.9929724393767384, 1.0010392224698907, 1.9905300274677884]\n"
     ]
    }
   ],
   "source": [
    "print(pso1(100,50,5,-5.12,+5.12,.9,.2,.7,.2))"
   ]
  }
 ],
 "metadata": {
  "kernelspec": {
   "display_name": "base",
   "language": "python",
   "name": "python3"
  },
  "language_info": {
   "codemirror_mode": {
    "name": "ipython",
    "version": 3
   },
   "file_extension": ".py",
   "mimetype": "text/x-python",
   "name": "python",
   "nbconvert_exporter": "python",
   "pygments_lexer": "ipython3",
   "version": "3.12.4"
  }
 },
 "nbformat": 4,
 "nbformat_minor": 2
}
