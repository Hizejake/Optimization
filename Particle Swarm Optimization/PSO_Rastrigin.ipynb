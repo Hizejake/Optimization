{
 "cells": [
  {
   "cell_type": "markdown",
   "metadata": {},
   "source": [
    "# Particle Swarm Optimization (PSO) Project Report\n",
    "\n",
    "## Introduction\n",
    "\n",
    "Particle Swarm Optimization (PSO) is a computational method used for optimizing a problem by iteratively improving a candidate solution with regard to a given measure of quality. This project explores three different implementations of the PSO algorithm and compares their performance.\n",
    "\n",
    "## Rastrigin Function\n",
    "\n",
    "The Rastrigin function is a non-convex function used as a performance test problem for optimization algorithms. It is highly multimodal, meaning it has a large number of local minima. The function is defined by:\n",
    "\n",
    "$$f(x) = An + \\sum_{i=1}^{n} \\left[ x_i^2 - A \\cos(2\\pi x_i) \\right]$$\n",
    "\n",
    "\n",
    "where $A = 10$, $x_i ∈ [-5.12, 5.12]$\n",
    "\n",
    "Global Minimum : $f(x) = 0$ for $x = 0$\n",
    "\n",
    "Maximum Function Value: $xi ∈ [±4.52299366...,...,±4.52299366...]$\n",
    "\n",
    "#### code:\n",
    "\n",
    "```python\n",
    "\n",
    "def rastrigin(X):\n",
    "    if isinstance(X[0],(int,float)):\n",
    "        X = [[X[i]] for i in range(len(X))]\n",
    "    \n",
    "    val = []\n",
    "    for xi in X:\n",
    "        fx = 10 * len(xi) + sum(np.array(xi) ** 2 - 10 * np.cos(2 * np.pi * np.array(xi)))\n",
    "        val.append(fx)\n",
    "    return np.array(val)\n",
    "\n",
    "```\n",
    "\n",
    "### Population Generation\n",
    "\n",
    "The `generate_particle` function is responsible for initializing the swarm (population of particles) and their velocities.\n",
    "\n",
    "```python\n",
    "def generate_particle(num_variables, swarm_size, x_min, x_max):\n",
    "    swarm = np.random.uniform(x_min, x_max, (swarm_size, num_variables))\n",
    "    velocity = np.zeros_like(swarm)\n",
    "    return swarm, velocity\n",
    "```\n",
    "\n",
    "#### Explanation\n",
    "\n",
    "The `generate_particle` function initializes the swarm and their velocities as follows:\n",
    "\n",
    "1. **Swarm Initialization**:\n",
    "    - The swarm is a 2D array where each row represents a particle and each column represents a variable (dimension) of the problem.\n",
    "    - `np.random.uniform(x_min, x_max, (swarm_size, num_variables))` generates a swarm of particles with random positions. Each position is uniformly distributed between `x_min` and `x_max`.\n",
    "    - `swarm_size` specifies the number of particles in the swarm.\n",
    "    - `num_variables` specifies the number of dimensions (variables) for each particle.\n",
    "\n",
    "2. **Velocity Initialization**:\n",
    "    - The velocity is a 2D array of the same shape as the swarm.\n",
    "    - `np.zeros_like(swarm)` initializes the velocity of each particle to zero. This means that initially, particles have no movement.\n",
    "\n",
    "3. **Return Values**:\n",
    "    - The function returns the initialized `swarm` and `velocity`.\n",
    "\n",
    "## PSO Algorithms\n",
    "\n",
    "### 1. **PSO Algorithm 1**\n",
    "\n",
    "This is the first implementation of the PSO algorithm. It uses the following parameters:\n",
    "\n",
    "- **Number of Iterations:** 100\n",
    "- **Swarm Size:** 50\n",
    "- **Number of Variables:** 5\n",
    "- **Search Space:** [-5.12, 5.12]\n",
    "- **Inertia Weight (W):** 0.9\n",
    "- **Cognitive Coefficient (C1):** 0.2\n",
    "- **Social Coefficient (C2):** 0.7\n",
    "- **Velocity Coefficient (E):** 0.2\n",
    "\n",
    "#### code:\n",
    "\n",
    "```python\n",
    "def pso(num_iterations,swarm_size,num_variables,x_min,x_max,W,C1,C2,E):\n",
    "    swarm,velocity = generate_particle(num_variables,swarm_size,x_min,x_max)\n",
    "    local_best = np.copy(swarm)\n",
    "    global_best = np.full_like(local_best,local_best[index_finder(swarm)])\n",
    "    \n",
    "    for z in range(num_iterations):\n",
    "        swarm2 = swarm + (E * velocity)\n",
    "        swarm2 = np.clip(swarm2,x_min,x_max)\n",
    "        \n",
    "        ras_swarm = np.array(rastrigin(swarm))\n",
    "        ras_swarm2 = np.array(rastrigin(swarm2))\n",
    "        \n",
    "        for i in range(swarm_size):\n",
    "            if ras_swarm2[i] < ras_swarm[i]:\n",
    "                local_best[i] = swarm2[i]\n",
    "                continue\n",
    "            if min(ras_swarm2) < min(ras_swarm):\n",
    "                global_best = np.full_like(local_best,local_best[index_finder(swarm2)])\n",
    "                # print(global_best[0])\n",
    "                continue\n",
    "            \n",
    "        velocity = ((W*(W-.4)*velocity*z)/num_iterations) + C1 * np.random.uniform(0,1) * (local_best - swarm) + C2 * np.random.uniform(0,1) * (global_best - swarm)\n",
    "    \n",
    "    return global_best[0]\n",
    "```\n",
    "\n",
    "### 2. **PSO Algorithm 2**\n",
    "\n",
    "This is the second implementation of the PSO algorithm. It uses the following parameters:\n",
    "\n",
    "- **Number of Iterations:** 100\n",
    "- **Swarm Size:** 50\n",
    "- **Number of Variables:** 5\n",
    "- **Search Space:** [-5.12, 5.12]\n",
    "- **Inertia Weight (α):** 0.9  (controls the influence of the particle's previous velocity on its current velocity)\n",
    "- **Cognitive Coefficient (β):** 0.2 (controls the influence of the particle's own best-known position on its current velocity)\n",
    "- **Social Coefficient (γ):** 0.7 (controls the influence of the swarm's best-known position on the particle's current velocity)\n",
    "- **Velocity Coefficient (ε):** 0.2 (introduces stochasticity into the particle's movement)\n",
    "\n",
    "#### code:\n",
    "\n",
    "```python\n",
    "def pso1(num_iterations, swarm_size, num_variables, x_min, x_max, alpha, beta, gamma, epsilon):\n",
    "    \n",
    "    swarm, velocity = generate_particle(num_variables, swarm_size, x_min, x_max)\n",
    "    \n",
    "    for i in range(num_iterations):\n",
    "        \n",
    "        swarm2 = swarm + epsilon * velocity\n",
    "        swarm2 = np.clip(swarm2,x_min,x_max)\n",
    "        \n",
    "        dicx = {tuple(swarm[i]): rastrigin(swarm)[i] for i in range(swarm_size)}\n",
    "        dicy = {tuple(swarm2[i]): rastrigin(swarm2)[i] for i in range(swarm_size)}\n",
    "\n",
    "        if i == 0:\n",
    "            \n",
    "            local_best = swarm\n",
    "            global_best = list(min(dicx, key=lambda k: dicx[k]))\n",
    "        else:\n",
    "            for j in range(swarm_size):\n",
    "                key1, value1 = list(dicx.items())[j]\n",
    "                key2, value2 = list(dicy.items())[j]\n",
    "                \n",
    "                local_best[j] = list(key2) if value2 < value1 else list(key1)\n",
    "                \n",
    "                global_best = list(min(dicy, key=lambda k: dicy[k])) if np.argmin(dicy) < np.argmin(dicx) else list(min(dicx, key=lambda k: dicx[k]))\n",
    "                      \n",
    "\n",
    "        velocity = (alpha * velocity + np.random.uniform(0, beta) * (np.array(local_best) - np.array(swarm)) + np.random.uniform(0, gamma) * (np.full_like(swarm, global_best) - np.array(swarm)))\n",
    "        \n",
    "        \n",
    "    return global_best\n",
    "```\n",
    "\n",
    "### 3. **PSO Algorithm 3**\n",
    "\n",
    "This is the third implementation of the PSO algorithm. It uses the following parameters:\n",
    "\n",
    "- **Number of Iterations:** 100\n",
    "- **Swarm Size:** 50\n",
    "- **Number of Variables:** 5\n",
    "- **Search Space:** [-5.12, 5.12]\n",
    "- **Inertia Weight (α):** 0.9  (controls the influence of the particle's previous velocity on its current velocity)\n",
    "- **Cognitive Coefficient (β):** 0.2 (controls the influence of the particle's own best-known position on its current velocity)\n",
    "- **Social Coefficient (γ):** 0.7 (controls the influence of the swarm's best-known position on the particle's current velocity)\n",
    "- **Velocity Coefficient (ε):** 0.2 (introduces stochasticity into the particle's movement)\n",
    "\n",
    "#### code:\n",
    "\n",
    "```python\n",
    "def pso2(num_iterations, swarm_size, num_variables, x_min, x_max, alpha, beta, gamma, epsilon):\n",
    "    def rastrigin(X):\n",
    "        return 10 * len(X) + sum([(x ** 2 - 10 * np.cos(2 * np.pi * x)) for x in X])\n",
    "\n",
    "    def generate_particle(num_variables, swarm_size, x_min, x_max):\n",
    "        swarm = np.random.uniform(x_min, x_max, (swarm_size, num_variables))\n",
    "        velocity = np.zeros_like(swarm)\n",
    "        return swarm, velocity\n",
    "\n",
    "    swarm, velocity = generate_particle(num_variables, swarm_size, x_min, x_max)\n",
    "    swarm = np.clip(swarm, x_min, x_max)\n",
    "    swarm_positions = [swarm.tolist()]\n",
    "\n",
    "    for i in range(num_iterations):\n",
    "\n",
    "        swarm2 = swarm + epsilon * velocity\n",
    "        swarm2 = np.clip(swarm2, x_min, x_max)\n",
    "        \n",
    "        dicx = {tuple(swarm[i]): rastrigin(swarm[i]) for i in range(swarm_size)}\n",
    "        dicy = {tuple(swarm2[i]): rastrigin(swarm2[i]) for i in range(swarm_size)}\n",
    "\n",
    "        if i == 0:\n",
    "            local_best = swarm\n",
    "            global_best = list(min(dicx, key=dicx.get))\n",
    "        else:\n",
    "            for j in range(swarm_size):\n",
    "                key1, value1 = list(dicx.items())[j]\n",
    "                key2, value2 = list(dicy.items())[j]\n",
    "                \n",
    "                local_best[j] = list(key2) if value2 < value1 else list(key1)\n",
    "                \n",
    "                global_best = list(min(dicy, key=dicy.get)) if min(dicy.values()) < min(dicx.values()) else list(min(dicx, key=dicx.get))\n",
    "\n",
    "        velocity = (alpha * velocity + np.random.uniform(0, beta) * (np.array(local_best) - np.array(swarm)) + np.random.uniform(0, gamma) * (np.full_like(swarm, global_best) - np.array(swarm)))\n",
    "        \n",
    "        swarm = swarm2\n",
    "        swarm_positions.append(swarm.tolist())\n",
    "\n",
    "    return global_best, swarm_positions\n",
    "```\n",
    "\n",
    "The global best position found by this algorithm is:\n",
    "\n",
    "| Algorithm | Global Best Position | Rastrigin Function Value | Execution Time (s) |\n",
    "|-----------|----------------------|--------------------------|--------------------|\n",
    "| PSO 1     | [ 2.20412036,  3.94632764,  0.28219694, -1.9361664 ,  0.88730092] | 47.97453437 | 42.6 |\n",
    "| PSO 2     | [1.0145939658519847, -0.0041799238350148475, 0.00047935063627344617, 0.0005206643559654415, 0.9818669763215216] | 2.10387461 | 2.2 |\n",
    "| PSO 3     | [-3.951197759123789, 2.0690898271096465, -0.9768304627327755, -2.133493834483567, 1.7961338305104446] | 40.58288207 | 0.1 |\n",
    "\n",
    "## Simulation Demonstration\n",
    "\n",
    "Below is an animation demonstrating the simulation of the PSO algorithms:\n",
    "\n",
    "![PSO Simulation](pso_animation.gif)\n",
    "\n",
    "## Comparative Study\n",
    "\n",
    "Complexity: All three algorithms have similar computational complexity, primarily $(O(n \\cdot m \\cdot k))$, where (n) is the number of iterations, (m) is the swarm size, and (k) is the number of variables.\n",
    "\n",
    "Convergence: PSO Algorithm 2 showed the best convergence to the global minimum with the lowest Rastrigin function value. This suggests that the specific parameter tuning in Algorithm 2 was more effective for this problem.\n",
    "\n",
    "Stability: The results indicate that Algorithm 2 is more stable and consistent in finding a better solution compared to Algorithms 1 and 3.\n",
    "\n",
    "Exploration vs. Exploitation: The parameters in Algorithm 2 provided a better balance between exploration (searching new areas) and exploitation (refining known good areas), leading to better overall performance.\n",
    "\n",
    "## Conclusion\n",
    "\n",
    "In conclusion, all three PSO algorithms were able to find a global best position with similar Rastrigin function values. However, the specific positions found by each algorithm varied. This demonstrates the stochastic nature of the PSO algorithm and the importance of parameter tuning for achieving optimal results.\n",
    "\n",
    "\n",
    "**Note:** The animation file is attached to provide a visual demonstration of the PSO algorithms in 2-variables.\n"
   ]
  },
  {
   "cell_type": "code",
   "metadata": {
    "ExecuteTime": {
     "end_time": "2024-10-17T10:39:05.067178Z",
     "start_time": "2024-10-17T10:39:05.065219Z"
    }
   },
   "source": [
    "import numpy as np"
   ],
   "outputs": [],
   "execution_count": 49
  },
  {
   "cell_type": "markdown",
   "metadata": {},
   "source": [
    "# Define Rastrigin Function\n"
   ]
  },
  {
   "cell_type": "code",
   "metadata": {
    "ExecuteTime": {
     "end_time": "2024-10-17T10:39:05.137305Z",
     "start_time": "2024-10-17T10:39:05.134398Z"
    }
   },
   "source": [
    "def rastrigin(X):\n",
    "    if isinstance(X[0],(int,float)):\n",
    "        X = [[X[i]] for i in range(len(X))]\n",
    "        \n",
    "    val = []\n",
    "    for xi in X:\n",
    "        fx = 10 * len(xi) + sum(np.array(xi) ** 2 - 10 * np.cos(2 * np.pi * np.array(xi)))\n",
    "        val.append(fx)\n",
    "    return np.array(val)"
   ],
   "outputs": [],
   "execution_count": 50
  },
  {
   "cell_type": "markdown",
   "metadata": {},
   "source": [
    "# Initiate population"
   ]
  },
  {
   "cell_type": "code",
   "metadata": {
    "ExecuteTime": {
     "end_time": "2024-10-17T10:39:05.182861Z",
     "start_time": "2024-10-17T10:39:05.180790Z"
    }
   },
   "source": [
    "def generate_particle(num_variables,swarm_size,x_min,x_max):\n",
    "    swarm = np.random.uniform(x_min,x_max,(swarm_size,num_variables))\n",
    "\n",
    "    velocity = np.zeros_like(swarm)\n",
    "\n",
    "    return swarm , velocity"
   ],
   "outputs": [],
   "execution_count": 51
  },
  {
   "cell_type": "code",
   "metadata": {
    "ExecuteTime": {
     "end_time": "2024-10-17T10:39:05.227454Z",
     "start_time": "2024-10-17T10:39:05.225845Z"
    }
   },
   "source": [],
   "outputs": [],
   "execution_count": null
  },
  {
   "cell_type": "code",
   "metadata": {
    "ExecuteTime": {
     "end_time": "2024-10-17T10:39:05.273208Z",
     "start_time": "2024-10-17T10:39:05.270816Z"
    }
   },
   "source": [
    "\n",
    "def index_finder(arr):\n",
    "    mini = 0\n",
    "    for i in range(len(arr)):\n",
    "        if rastrigin(arr)[i] < rastrigin(arr)[mini]:\n",
    "            mini = i\n",
    "    return mini "
   ],
   "outputs": [],
   "execution_count": 52
  },
  {
   "cell_type": "markdown",
   "metadata": {},
   "source": [
    "# Particle Swarm Optimisation"
   ]
  },
  {
   "cell_type": "code",
   "metadata": {
    "ExecuteTime": {
     "end_time": "2024-10-17T10:39:05.321251Z",
     "start_time": "2024-10-17T10:39:05.316961Z"
    }
   },
   "source": [
    "def pso(num_iterations,swarm_size,num_variables,x_min,x_max,W,C1,C2,E):\n",
    "    swarm,velocity = generate_particle(num_variables,swarm_size,x_min,x_max)\n",
    "    local_best = np.copy(swarm)\n",
    "    global_best = np.full_like(local_best,local_best[index_finder(swarm)])\n",
    "    \n",
    "    for z in range(num_iterations):\n",
    "        swarm2 = swarm + (E * velocity)\n",
    "        swarm2 = np.clip(swarm2,x_min,x_max)\n",
    "        \n",
    "        ras_swarm = np.array(rastrigin(swarm))\n",
    "        ras_swarm2 = np.array(rastrigin(swarm2))\n",
    "        \n",
    "        for i in range(swarm_size):\n",
    "            if ras_swarm2[i] < ras_swarm[i]:\n",
    "                local_best[i] = swarm2[i]\n",
    "                continue\n",
    "            if min(ras_swarm2) < min(ras_swarm):\n",
    "                global_best = np.full_like(local_best,local_best[index_finder(swarm2)])\n",
    "                # print(global_best[0])\n",
    "                continue\n",
    "            \n",
    "        velocity = ((W*(W-.4)*velocity* z )/num_iterations) + C1 * np.random.uniform(0,1) * (local_best - swarm) + C2 * np.random.uniform(0,1) * (global_best - swarm)\n",
    "    \n",
    "    return global_best[0]"
   ],
   "outputs": [],
   "execution_count": 53
  },
  {
   "cell_type": "code",
   "metadata": {
    "ExecuteTime": {
     "end_time": "2024-10-17T10:39:05.368682Z",
     "start_time": "2024-10-17T10:39:05.364113Z"
    }
   },
   "source": [
    "def pso1(num_iterations, swarm_size, num_variables, x_min, x_max, alpha, beta, gamma, epsilon):\n",
    "    \n",
    "    swarm, velocity = generate_particle(num_variables, swarm_size, x_min, x_max)\n",
    "    \n",
    "    for i in range(num_iterations):\n",
    "        \n",
    "        swarm2 = swarm + epsilon * velocity\n",
    "        swarm2 = np.clip(swarm2,x_min,x_max)\n",
    "        \n",
    "        dicx = {tuple(swarm[i]): rastrigin(swarm)[i] for i in range(swarm_size)}\n",
    "        dicy = {tuple(swarm2[i]): rastrigin(swarm2)[i] for i in range(swarm_size)}\n",
    "\n",
    "        if i == 0:\n",
    "            \n",
    "            local_best = swarm\n",
    "            global_best = list(min(dicx, key=lambda k: dicx[k]))\n",
    "        else:\n",
    "            for j in range(swarm_size):\n",
    "                key1, value1 = list(dicx.items())[j]\n",
    "                key2, value2 = list(dicy.items())[j]\n",
    "                \n",
    "                local_best[j] = list(key2) if value2 < value1 else list(key1)\n",
    "                \n",
    "                global_best = list(min(dicy, key=lambda k: dicy[k])) if np.argmin(dicy) < np.argmin(dicx) else list(min(dicx, key=lambda k: dicx[k]))\n",
    "                # global_best = list(min(dicy, key=dicy.get)) if min(dicy.values()) < min(dicx.values()) else list(min(dicx, key=dicx.get))\n",
    "                # print(global_best)      \n",
    "\n",
    "        velocity = alpha*velocity + (np.random.uniform(0, beta) * (np.array(local_best) - np.array(swarm))) + (np.random.uniform(0, gamma) * (np.full_like(swarm, global_best) - np.array(swarm)))\n",
    "        \n",
    "        \n",
    "    return global_best\n"
   ],
   "outputs": [],
   "execution_count": 54
  },
  {
   "cell_type": "code",
   "metadata": {
    "ExecuteTime": {
     "end_time": "2024-10-17T10:39:05.418239Z",
     "start_time": "2024-10-17T10:39:05.413024Z"
    }
   },
   "source": [
    "def pso2(num_iterations, swarm_size, num_variables, x_min, x_max, alpha, beta, gamma, epsilon):\n",
    "    def rastrigin(X):\n",
    "        return 10 * len(X) + sum([(x ** 2 - 10 * np.cos(2 * np.pi * x)) for x in X])\n",
    "\n",
    "    def generate_particle(num_variables, swarm_size, x_min, x_max):\n",
    "        swarm = np.random.uniform(x_min, x_max, (swarm_size, num_variables))\n",
    "        velocity = np.zeros_like(swarm)\n",
    "        return swarm, velocity\n",
    "\n",
    "    swarm, velocity = generate_particle(num_variables, swarm_size, x_min, x_max)\n",
    "    swarm = np.clip(swarm, x_min, x_max)\n",
    "    swarm_positions = [swarm.tolist()]\n",
    "\n",
    "    for i in range(num_iterations):\n",
    "        swarm2 = swarm + epsilon * velocity\n",
    "        swarm2 = np.clip(swarm2, x_min, x_max)\n",
    "        \n",
    "        dicx = {tuple(swarm[i]): rastrigin(swarm[i]) for i in range(swarm_size)}    # this in pso1 is done as rastrigin(swarm)[i] maybe this works,\n",
    "                                                                                    # because of the way swarms are generated, but i'm not sure\n",
    "        dicy = {tuple(swarm2[i]): rastrigin(swarm2[i]) for i in range(swarm_size)}\n",
    "\n",
    "        if i == 0:\n",
    "            local_best = swarm\n",
    "            global_best = list(min(dicx, key=dicx.get))\n",
    "        else:\n",
    "            for j in range(swarm_size):\n",
    "                key1, value1 = list(dicx.items())[j]\n",
    "                key2, value2 = list(dicy.items())[j]\n",
    "                \n",
    "                local_best[j] = list(key2) if value2 < value1 else list(key1)\n",
    "                \n",
    "                global_best = list(min(dicy, key=dicy.get)) if min(dicy.values()) < min(dicx.values()) else list(min(dicx, key=dicx.get))\n",
    "\n",
    "        velocity = ((alpha*(alpha-.4)* velocity * i )/num_iterations) + (np.random.uniform(0, beta) * (np.array(local_best) - np.array(swarm))) + (np.random.uniform(0, gamma) * (np.full_like(swarm, global_best) - np.array(swarm)))\n",
    "        \n",
    "        swarm = swarm2\n",
    "        swarm_positions.append(swarm.tolist())\n",
    "\n",
    "    return global_best, swarm_positions"
   ],
   "outputs": [],
   "execution_count": 55
  },
  {
   "cell_type": "code",
   "metadata": {
    "ExecuteTime": {
     "end_time": "2024-10-17T10:39:28.435202Z",
     "start_time": "2024-10-17T10:39:05.462112Z"
    }
   },
   "source": [
    "gb = pso(100,50,5,-5.12,+5.12,.9,.2,.7,.2)\n",
    "gb"
   ],
   "outputs": [
    {
     "data": {
      "text/plain": [
       "array([ 1.95085827, -0.78253951, -1.19564862, -0.78797699,  1.32251815])"
      ]
     },
     "execution_count": 56,
     "metadata": {},
     "output_type": "execute_result"
    }
   ],
   "execution_count": 56
  },
  {
   "cell_type": "code",
   "metadata": {
    "ExecuteTime": {
     "end_time": "2024-10-17T10:39:28.482442Z",
     "start_time": "2024-10-17T10:39:28.479661Z"
    }
   },
   "source": [
    "rastrigin([gb])"
   ],
   "outputs": [
    {
     "data": {
      "text/plain": [
       "array([45.34818289])"
      ]
     },
     "execution_count": 57,
     "metadata": {},
     "output_type": "execute_result"
    }
   ],
   "execution_count": 57
  },
  {
   "cell_type": "code",
   "metadata": {
    "ExecuteTime": {
     "end_time": "2024-10-17T10:39:30.798477Z",
     "start_time": "2024-10-17T10:39:28.525911Z"
    }
   },
   "source": [
    "gb1 = pso1(100,50,5,-5.12,+5.12,.9,.2,.7,.2) # notice as the number of iterations and swarm size is increased the result is less accurate on some occasions\n",
    "gb1"
   ],
   "outputs": [
    {
     "data": {
      "text/plain": [
       "[0.9902503637114113,\n",
       " -0.9940551264905424,\n",
       " 1.9905697613685347,\n",
       " 0.006736472170628761,\n",
       " -0.0020944445098359573]"
      ]
     },
     "execution_count": 58,
     "metadata": {},
     "output_type": "execute_result"
    }
   ],
   "execution_count": 58
  },
  {
   "cell_type": "code",
   "metadata": {
    "ExecuteTime": {
     "end_time": "2024-10-17T10:39:30.806211Z",
     "start_time": "2024-10-17T10:39:30.803578Z"
    }
   },
   "source": [
    "rastrigin([gb1])"
   ],
   "outputs": [
    {
     "data": {
      "text/plain": [
       "array([5.9842628])"
      ]
     },
     "execution_count": 59,
     "metadata": {},
     "output_type": "execute_result"
    }
   ],
   "execution_count": 59
  },
  {
   "cell_type": "code",
   "metadata": {
    "ExecuteTime": {
     "end_time": "2024-10-17T10:39:30.950762Z",
     "start_time": "2024-10-17T10:39:30.847139Z"
    }
   },
   "source": [
    "globalbest, swarm_positions = pso2(100, 50, 5, -5.12, 5.12, 0.9, 0.2, 0.7, 0.2)\n",
    "print(globalbest)"
   ],
   "outputs": [
    {
     "name": "stdout",
     "output_type": "stream",
     "text": [
      "[-0.04620238695089511, -2.99677185567451, 0.05504244198017408, -0.8670936841032133, -0.9479263504617537]\n"
     ]
    }
   ],
   "execution_count": 60
  },
  {
   "cell_type": "code",
   "metadata": {
    "ExecuteTime": {
     "end_time": "2024-10-17T10:39:30.961455Z",
     "start_time": "2024-10-17T10:39:30.959189Z"
    }
   },
   "source": [
    "rastrigin([globalbest])"
   ],
   "outputs": [
    {
     "data": {
      "text/plain": [
       "array([15.46807126])"
      ]
     },
     "execution_count": 61,
     "metadata": {},
     "output_type": "execute_result"
    }
   ],
   "execution_count": 61
  },
  {
   "cell_type": "code",
   "metadata": {
    "ExecuteTime": {
     "end_time": "2024-10-17T10:39:31.000916Z",
     "start_time": "2024-10-17T10:39:30.999323Z"
    }
   },
   "source": [],
   "outputs": [],
   "execution_count": null
  }
 ],
 "metadata": {
  "kernelspec": {
   "display_name": "base",
   "language": "python",
   "name": "python3"
  },
  "language_info": {
   "codemirror_mode": {
    "name": "ipython",
    "version": 3
   },
   "file_extension": ".py",
   "mimetype": "text/x-python",
   "name": "python",
   "nbconvert_exporter": "python",
   "pygments_lexer": "ipython3",
   "version": "3.11.10"
  }
 },
 "nbformat": 4,
 "nbformat_minor": 2
}
