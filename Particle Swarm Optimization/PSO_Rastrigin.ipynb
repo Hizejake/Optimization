{
 "cells": [
  {
   "cell_type": "code",
   "execution_count": 35,
   "metadata": {
    "ExecuteTime": {
     "end_time": "2024-10-14T06:56:57.879667Z",
     "start_time": "2024-10-14T06:56:57.035153Z"
    }
   },
   "outputs": [],
   "source": [
    "import numpy as np\n",
    "import pandas as pd"
   ]
  },
  {
   "cell_type": "markdown",
   "metadata": {},
   "source": [
    "# Define Rastrigin Function\n"
   ]
  },
  {
   "cell_type": "code",
   "execution_count": 74,
   "metadata": {
    "ExecuteTime": {
     "end_time": "2024-10-14T07:18:32.225019Z",
     "start_time": "2024-10-14T07:18:32.220738Z"
    }
   },
   "outputs": [],
   "source": [
    "def rastrigin(X):\n",
    "    \n",
    "    if isinstance(X,(int,float)):\n",
    "        X = [X]\n",
    "    \n",
    "    val = []\n",
    "    for xi in X:\n",
    "        fx = 10 * len(xi) - sum(np.array(xi) ** 2 - 10 * np.cos(2 * np.pi * np.array(xi)))\n",
    "        val.append(fx)\n",
    "    return np.array(val)"
   ]
  },
  {
   "cell_type": "code",
   "execution_count": 75,
   "metadata": {
    "ExecuteTime": {
     "end_time": "2024-10-14T07:18:32.974402Z",
     "start_time": "2024-10-14T07:18:32.968097Z"
    }
   },
   "outputs": [
    {
     "data": {
      "text/plain": [
       "array([ 40. ,  38. ,  38. ,  32. ,  32. ,  -0.5,  -0.5,  22. ,  22. ,\n",
       "       -12.5])"
      ]
     },
     "execution_count": 75,
     "metadata": {},
     "output_type": "execute_result"
    }
   ],
   "source": [
    "input_values = [\n",
    "    [0, 0],\n",
    "    [1, 1],\n",
    "    [-1, -1],\n",
    "    [2, 2],\n",
    "    [-2, -2],\n",
    "    [0.5, 0.5],\n",
    "    [-0.5, -0.5],\n",
    "    [3, 3],\n",
    "    [-3, -3],\n",
    "    [2.5, -2.5]\n",
    "]\n",
    "\n",
    "rastrigin(np.array(input_values))"
   ]
  },
  {
   "cell_type": "code",
   "execution_count": 76,
   "metadata": {
    "ExecuteTime": {
     "end_time": "2024-10-14T07:18:34.843794Z",
     "start_time": "2024-10-14T07:18:34.821986Z"
    }
   },
   "outputs": [
    {
     "ename": "TypeError",
     "evalue": "len() of unsized object",
     "output_type": "error",
     "traceback": [
      "\u001b[1;31m---------------------------------------------------------------------------\u001b[0m",
      "\u001b[1;31mTypeError\u001b[0m                                 Traceback (most recent call last)",
      "Cell \u001b[1;32mIn[76], line 2\u001b[0m\n\u001b[0;32m      1\u001b[0m input_values_1d \u001b[38;5;241m=\u001b[39m [\u001b[38;5;241m0\u001b[39m, \u001b[38;5;241m1\u001b[39m, \u001b[38;5;241m-\u001b[39m\u001b[38;5;241m1\u001b[39m, \u001b[38;5;241m2\u001b[39m, \u001b[38;5;241m-\u001b[39m\u001b[38;5;241m2\u001b[39m, \u001b[38;5;241m0.5\u001b[39m, \u001b[38;5;241m-\u001b[39m\u001b[38;5;241m0.5\u001b[39m, \u001b[38;5;241m3\u001b[39m, \u001b[38;5;241m-\u001b[39m\u001b[38;5;241m3\u001b[39m, \u001b[38;5;241m2.5\u001b[39m]\n\u001b[1;32m----> 2\u001b[0m \u001b[43mrastrigin\u001b[49m\u001b[43m(\u001b[49m\u001b[43mnp\u001b[49m\u001b[38;5;241;43m.\u001b[39;49m\u001b[43marray\u001b[49m\u001b[43m(\u001b[49m\u001b[43minput_values_1d\u001b[49m\u001b[43m)\u001b[49m\u001b[43m)\u001b[49m\n",
      "Cell \u001b[1;32mIn[74], line 4\u001b[0m, in \u001b[0;36mrastrigin\u001b[1;34m(X)\u001b[0m\n\u001b[0;32m      2\u001b[0m val \u001b[38;5;241m=\u001b[39m []\n\u001b[0;32m      3\u001b[0m \u001b[38;5;28;01mfor\u001b[39;00m xi \u001b[38;5;129;01min\u001b[39;00m X:\n\u001b[1;32m----> 4\u001b[0m     fx \u001b[38;5;241m=\u001b[39m \u001b[38;5;241m10\u001b[39m \u001b[38;5;241m*\u001b[39m \u001b[38;5;28mlen\u001b[39m(np\u001b[38;5;241m.\u001b[39marray(xi)) \u001b[38;5;241m-\u001b[39m \u001b[38;5;28msum\u001b[39m(np\u001b[38;5;241m.\u001b[39marray(xi) \u001b[38;5;241m*\u001b[39m\u001b[38;5;241m*\u001b[39m \u001b[38;5;241m2\u001b[39m \u001b[38;5;241m-\u001b[39m \u001b[38;5;241m10\u001b[39m \u001b[38;5;241m*\u001b[39m np\u001b[38;5;241m.\u001b[39mcos(\u001b[38;5;241m2\u001b[39m \u001b[38;5;241m*\u001b[39m np\u001b[38;5;241m.\u001b[39mpi \u001b[38;5;241m*\u001b[39m np\u001b[38;5;241m.\u001b[39marray(xi)))\n\u001b[0;32m      5\u001b[0m     val\u001b[38;5;241m.\u001b[39mappend(fx)\n\u001b[0;32m      6\u001b[0m \u001b[38;5;28;01mreturn\u001b[39;00m np\u001b[38;5;241m.\u001b[39marray(val)\n",
      "\u001b[1;31mTypeError\u001b[0m: len() of unsized object"
     ]
    }
   ],
   "source": [
    "input_values_1d = [0, 1, -1, 2, -2, 0.5, -0.5, 3, -3, 2.5]\n",
    "rastrigin(np.array(input_values_1d))"
   ]
  },
  {
   "cell_type": "code",
   "execution_count": 82,
   "metadata": {
    "ExecuteTime": {
     "end_time": "2024-10-14T07:20:39.746335Z",
     "start_time": "2024-10-14T07:20:39.729565Z"
    }
   },
   "outputs": [
    {
     "ename": "AttributeError",
     "evalue": "'int' object has no attribute 'tolist'",
     "output_type": "error",
     "traceback": [
      "\u001b[1;31m---------------------------------------------------------------------------\u001b[0m",
      "\u001b[1;31mAttributeError\u001b[0m                            Traceback (most recent call last)",
      "Cell \u001b[1;32mIn[82], line 2\u001b[0m\n\u001b[0;32m      1\u001b[0m \u001b[38;5;28;01mfor\u001b[39;00m i \u001b[38;5;129;01min\u001b[39;00m input_values_1d:\n\u001b[1;32m----> 2\u001b[0m     \u001b[38;5;28mprint\u001b[39m ((np\u001b[38;5;241m.\u001b[39marray(\u001b[43mi\u001b[49m\u001b[38;5;241;43m.\u001b[39;49m\u001b[43mtolist\u001b[49m())))\n",
      "\u001b[1;31mAttributeError\u001b[0m: 'int' object has no attribute 'tolist'"
     ]
    }
   ],
   "source": [
    "for i in input_values_1d:\n",
    "    print ((np.array(i.tolist())))\n"
   ]
  },
  {
   "cell_type": "code",
   "execution_count": 83,
   "metadata": {
    "ExecuteTime": {
     "end_time": "2024-10-14T07:20:57.945250Z",
     "start_time": "2024-10-14T07:20:57.931954Z"
    }
   },
   "outputs": [
    {
     "ename": "AttributeError",
     "evalue": "'int' object has no attribute 'toList'",
     "output_type": "error",
     "traceback": [
      "\u001b[1;31m---------------------------------------------------------------------------\u001b[0m",
      "\u001b[1;31mAttributeError\u001b[0m                            Traceback (most recent call last)",
      "Cell \u001b[1;32mIn[83], line 2\u001b[0m\n\u001b[0;32m      1\u001b[0m a \u001b[38;5;241m=\u001b[39m \u001b[38;5;241m5\u001b[39m\n\u001b[1;32m----> 2\u001b[0m \u001b[43ma\u001b[49m\u001b[38;5;241;43m.\u001b[39;49m\u001b[43mtoList\u001b[49m()\n",
      "\u001b[1;31mAttributeError\u001b[0m: 'int' object has no attribute 'toList'"
     ]
    }
   ],
   "source": [
    "a = 5\n",
    "a.toList()"
   ]
  },
  {
   "cell_type": "markdown",
   "metadata": {},
   "source": [
    "# Initiate population"
   ]
  },
  {
   "cell_type": "code",
   "execution_count": 41,
   "metadata": {
    "ExecuteTime": {
     "end_time": "2024-10-14T07:00:27.299687Z",
     "start_time": "2024-10-14T07:00:27.295920Z"
    }
   },
   "outputs": [],
   "source": [
    "def generate_particle(num_variables,population_size,x_min,x_max):\n",
    "    X = []\n",
    "    for i in range(population_size):\n",
    "        Xi = []\n",
    "        for j in range(num_variables):\n",
    "            Xi.append(np.random.uniform(x_min,x_max))\n",
    "        X.append(Xi)\n",
    "        \n",
    "    return np.array(X)"
   ]
  },
  {
   "cell_type": "code",
   "execution_count": 61,
   "metadata": {
    "ExecuteTime": {
     "end_time": "2024-10-14T07:07:38.088640Z",
     "start_time": "2024-10-14T07:07:38.083949Z"
    }
   },
   "outputs": [
    {
     "data": {
      "text/plain": [
       "array([ 73.10713332,  86.98445797, 101.93452027, 102.46343908,\n",
       "       102.56750544])"
      ]
     },
     "execution_count": 61,
     "metadata": {},
     "output_type": "execute_result"
    }
   ],
   "source": [
    "np.sort(rastrigin(generate_particle(4,5,-5,5).T))"
   ]
  },
  {
   "cell_type": "markdown",
   "metadata": {},
   "source": [
    "# Define Particle Swarm Optimisation"
   ]
  },
  {
   "cell_type": "code",
   "execution_count": 7,
   "metadata": {
    "ExecuteTime": {
     "end_time": "2024-10-14T06:38:50.485339Z",
     "start_time": "2024-10-14T06:38:50.482028Z"
    }
   },
   "outputs": [],
   "source": [
    "def pso(num_generation,population_size,num_variables):\n",
    "    \n",
    "    \n",
    "    pass\n",
    "\n",
    "\n",
    "        "
   ]
  },
  {
   "cell_type": "code",
   "execution_count": null,
   "metadata": {
    "ExecuteTime": {
     "end_time": "2024-10-14T06:38:50.501678Z",
     "start_time": "2024-10-14T06:38:50.497750Z"
    }
   },
   "outputs": [],
   "source": []
  }
 ],
 "metadata": {
  "kernelspec": {
   "display_name": "base",
   "language": "python",
   "name": "python3"
  },
  "language_info": {
   "codemirror_mode": {
    "name": "ipython",
    "version": 3
   },
   "file_extension": ".py",
   "mimetype": "text/x-python",
   "name": "python",
   "nbconvert_exporter": "python",
   "pygments_lexer": "ipython3",
   "version": "3.11.7"
  }
 },
 "nbformat": 4,
 "nbformat_minor": 2
}
