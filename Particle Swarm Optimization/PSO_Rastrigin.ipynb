{
 "cells": [
  {
   "cell_type": "code",
   "execution_count": 11,
   "metadata": {
    "ExecuteTime": {
     "end_time": "2024-10-14T21:53:37.930797Z",
     "start_time": "2024-10-14T21:53:37.928935Z"
    }
   },
   "outputs": [],
   "source": [
    "import numpy as np\n",
    "import matplotlib.pyplot as plt\n",
    "import matplotlib.animation as animation"
   ]
  },
  {
   "cell_type": "code",
   "execution_count": null,
   "metadata": {},
   "outputs": [],
   "source": []
  },
  {
   "cell_type": "markdown",
   "metadata": {},
   "source": [
    "# Define Rastrigin Function\n"
   ]
  },
  {
   "cell_type": "code",
   "execution_count": 12,
   "metadata": {
    "ExecuteTime": {
     "end_time": "2024-10-14T21:53:37.990939Z",
     "start_time": "2024-10-14T21:53:37.987925Z"
    }
   },
   "outputs": [],
   "source": [
    "def rastrigin(X):\n",
    "    if isinstance(X[0],(int,float)):\n",
    "        X = [[X[i]] for i in range(len(X))]\n",
    "    \n",
    "    val = []\n",
    "    for xi in X:\n",
    "        fx = 10 * len(xi) + sum(np.array(xi) ** 2 - 10 * np.cos(2 * np.pi * np.array(xi)))\n",
    "        val.append(fx)\n",
    "    return np.array(val)"
   ]
  },
  {
   "cell_type": "markdown",
   "metadata": {},
   "source": [
    "# Initiate population"
   ]
  },
  {
   "cell_type": "code",
   "execution_count": 13,
   "metadata": {
    "ExecuteTime": {
     "end_time": "2024-10-14T21:53:38.215641Z",
     "start_time": "2024-10-14T21:53:38.212974Z"
    }
   },
   "outputs": [],
   "source": [
    "def generate_particle(num_variables,swarm_size,x_min,x_max):\n",
    "    swarm = np.random.uniform(x_min,x_max,(swarm_size,num_variables))\n",
    "\n",
    "    velocity = np.zeros_like(swarm)\n",
    "\n",
    "    return swarm , velocity"
   ]
  },
  {
   "cell_type": "code",
   "execution_count": null,
   "metadata": {},
   "outputs": [],
   "source": []
  },
  {
   "cell_type": "code",
   "execution_count": 14,
   "metadata": {
    "ExecuteTime": {
     "end_time": "2024-10-14T21:53:38.546891Z",
     "start_time": "2024-10-14T21:53:38.541550Z"
    }
   },
   "outputs": [],
   "source": [
    "\n",
    "def index_finder(arr):\n",
    "    mini = 0\n",
    "    for i in range(len(arr)):\n",
    "        if rastrigin(arr)[i] < rastrigin(arr)[mini]:\n",
    "            mini = i\n",
    "    return mini "
   ]
  },
  {
   "cell_type": "markdown",
   "metadata": {},
   "source": [
    "# Particle Swarm Optimisation"
   ]
  },
  {
   "cell_type": "code",
   "execution_count": 15,
   "metadata": {
    "ExecuteTime": {
     "end_time": "2024-10-14T22:12:00.270546Z",
     "start_time": "2024-10-14T22:12:00.266871Z"
    }
   },
   "outputs": [],
   "source": [
    "def pso(num_iterations,swarm_size,num_variables,x_min,x_max,W,C1,C2,E):\n",
    "    swarm,velocity = generate_particle(num_variables,swarm_size,x_min,x_max)\n",
    "    local_best = np.copy(swarm)\n",
    "    global_best = np.full_like(local_best,local_best[index_finder(swarm)])\n",
    "    \n",
    "    for z in range(num_iterations):\n",
    "        swarm2 = swarm + (E * velocity)\n",
    "        swarm2 = np.clip(swarm2,x_min,x_max)\n",
    "        \n",
    "        ras_swarm = np.array(rastrigin(swarm))\n",
    "        ras_swarm2 = np.array(rastrigin(swarm2))\n",
    "        \n",
    "        for i in range(swarm_size):\n",
    "            if ras_swarm2[i] < ras_swarm[i]:\n",
    "                local_best[i] = swarm2[i]\n",
    "                continue\n",
    "            if min(ras_swarm2) < min(ras_swarm):\n",
    "                global_best = np.full_like(local_best,local_best[index_finder(swarm2)])\n",
    "                # print(global_best[0])\n",
    "                continue\n",
    "            \n",
    "        velocity = ((W*(W-.4)*velocity*z)/num_iterations) + C1 * np.random.uniform(0,1) * (local_best - swarm) + C2 * np.random.uniform(0,1) * (global_best - swarm)\n",
    "    \n",
    "    return global_best[0]"
   ]
  },
  {
   "cell_type": "code",
   "execution_count": 16,
   "metadata": {
    "ExecuteTime": {
     "end_time": "2024-10-14T21:53:38.498714Z",
     "start_time": "2024-10-14T21:53:38.496579Z"
    }
   },
   "outputs": [],
   "source": [
    "def pso1(num_iterations, swarm_size, num_variables, x_min, x_max, alpha, beta, gamma, epsilon):\n",
    "    \n",
    "    swarm, velocity = generate_particle(num_variables, swarm_size, x_min, x_max)\n",
    "    \n",
    "    for i in range(num_iterations):\n",
    "        \n",
    "        swarm2 = swarm + epsilon * velocity\n",
    "        swarm2 = np.clip(swarm2,x_min,x_max)\n",
    "        \n",
    "        dicx = {tuple(swarm[i]): rastrigin(swarm)[i] for i in range(swarm_size)}\n",
    "        dicy = {tuple(swarm2[i]): rastrigin(swarm2)[i] for i in range(swarm_size)}\n",
    "\n",
    "        if i == 0:\n",
    "            \n",
    "            local_best = swarm\n",
    "            global_best = list(min(dicx, key=lambda k: dicx[k]))\n",
    "        else:\n",
    "            for j in range(swarm_size):\n",
    "                key1, value1 = list(dicx.items())[j]\n",
    "                key2, value2 = list(dicy.items())[j]\n",
    "                \n",
    "                local_best[j] = list(key2) if value2 < value1 else list(key1)\n",
    "                \n",
    "                global_best = list(min(dicy, key=lambda k: dicy[k])) if np.argmin(dicy) < np.argmin(dicx) else list(min(dicx, key=lambda k: dicx[k]))      \n",
    "\n",
    "        velocity = (alpha * velocity + np.random.uniform(0, beta) * (np.array(local_best) - np.array(swarm)) + np.random.uniform(0, gamma) * (np.full_like(swarm, global_best) - np.array(swarm)))\n",
    "        \n",
    "        \n",
    "    return global_best\n"
   ]
  },
  {
   "cell_type": "code",
   "execution_count": 17,
   "metadata": {},
   "outputs": [],
   "source": [
    "def pso2(num_iterations, swarm_size, num_variables, x_min, x_max, alpha, beta, gamma, epsilon):\n",
    "    def rastrigin(X):\n",
    "        return 10 * len(X) + sum([(x ** 2 - 10 * np.cos(2 * np.pi * x)) for x in X])\n",
    "\n",
    "    def generate_particle(num_variables, swarm_size, x_min, x_max):\n",
    "        swarm = np.random.uniform(x_min, x_max, (swarm_size, num_variables))\n",
    "        velocity = np.zeros_like(swarm)\n",
    "        return swarm, velocity\n",
    "\n",
    "    swarm, velocity = generate_particle(num_variables, swarm_size, x_min, x_max)\n",
    "    swarm = np.clip(swarm, x_min, x_max)\n",
    "    swarm_positions = [swarm.tolist()]\n",
    "\n",
    "    for i in range(num_iterations):\n",
    "        swarm2 = swarm + epsilon * velocity\n",
    "        swarm2 = np.clip(swarm2, x_min, x_max)\n",
    "        \n",
    "        dicx = {tuple(swarm[i]): rastrigin(swarm[i]) for i in range(swarm_size)}\n",
    "        dicy = {tuple(swarm2[i]): rastrigin(swarm2[i]) for i in range(swarm_size)}\n",
    "\n",
    "        if i == 0:\n",
    "            local_best = swarm\n",
    "            global_best = list(min(dicx, key=dicx.get))\n",
    "        else:\n",
    "            for j in range(swarm_size):\n",
    "                key1, value1 = list(dicx.items())[j]\n",
    "                key2, value2 = list(dicy.items())[j]\n",
    "                \n",
    "                local_best[j] = list(key2) if value2 < value1 else list(key1)\n",
    "                \n",
    "                global_best = list(min(dicy, key=dicy.get)) if min(dicy.values()) < min(dicx.values()) else list(min(dicx, key=dicx.get))\n",
    "\n",
    "        velocity = (alpha * velocity + np.random.uniform(0, beta) * (np.array(local_best) - np.array(swarm)) + np.random.uniform(0, gamma) * (np.full_like(swarm, global_best) - np.array(swarm)))\n",
    "        \n",
    "        swarm = swarm2\n",
    "        swarm_positions.append(swarm.tolist())\n",
    "\n",
    "    return global_best, swarm_positions"
   ]
  },
  {
   "cell_type": "code",
   "execution_count": 18,
   "metadata": {
    "ExecuteTime": {
     "end_time": "2024-10-14T22:00:49.327453Z",
     "start_time": "2024-10-14T21:56:09.265111Z"
    }
   },
   "outputs": [
    {
     "name": "stdout",
     "output_type": "stream",
     "text": [
      "[ 2.07539876 -0.23749715  0.95518025 -2.93726341 -2.13348599]\n"
     ]
    }
   ],
   "source": [
    "print(pso(100,50,5,-5.12,+5.12,.9,.2,.7,.2))"
   ]
  },
  {
   "cell_type": "code",
   "execution_count": 31,
   "metadata": {},
   "outputs": [
    {
     "name": "stdout",
     "output_type": "stream",
     "text": [
      "<class 'list'>\n"
     ]
    }
   ],
   "source": [
    "print(type(pso1(100,50,5,-5.12,+5.12,.9,.2,.7,.2)))"
   ]
  },
  {
   "cell_type": "code",
   "execution_count": 30,
   "metadata": {},
   "outputs": [
    {
     "name": "stdout",
     "output_type": "stream",
     "text": [
      "<class 'list'>\n"
     ]
    }
   ],
   "source": [
    "globalbest,swarm_positions = pso2(100,50,5,-5.12,+5.12,.9,.2,.7,.2)\n",
    "print(type(globalbest))"
   ]
  }
 ],
 "metadata": {
  "kernelspec": {
   "display_name": "base",
   "language": "python",
   "name": "python3"
  },
  "language_info": {
   "codemirror_mode": {
    "name": "ipython",
    "version": 3
   },
   "file_extension": ".py",
   "mimetype": "text/x-python",
   "name": "python",
   "nbconvert_exporter": "python",
   "pygments_lexer": "ipython3",
   "version": "3.11.5"
  }
 },
 "nbformat": 4,
 "nbformat_minor": 2
}
