{
   "cells": [
      {
         "cell_type": "code",
         "execution_count": 3,
         "id": "import-libraries",
         "metadata": {},
         "outputs": [],
         "source": [
            "import pandas as pd\n",
            "import numpy as np\n",
            "from GA import gen_alg\n",
            "from unittest import TestCase, main"
         ]
      },
      {
         "cell_type": "code",
         "execution_count": 4,
         "id": "mock-functions",
         "metadata": {},
         "outputs": [],
         "source": [
            "# Mock functions to support the genetic algorithm\n",
            "def parent_pops(data, pop_size, target_variable):\n",
            "    return [data.sample(frac=1).reset_index(drop=True) for _ in range(pop_size)]\n",
            "\n",
            "def fittest_parents(population, no_parents_selected):\n",
            "    return population[:no_parents_selected]\n",
            "\n",
            "def uniform_crossover(data, target_variable, parent1, parent2):\n",
            "    return parent1, parent2\n",
            "\n",
            "def rbf_mutation(data, target_variable, parent1, parent2, mutation_rate):\n",
            "    return parent1, parent2"
         ]
      },
      {
         "cell_type": "code",
         "execution_count": 6,
         "id": "test-gen-alg",
         "metadata": {},
         "outputs": [
            {
               "name": "stderr",
               "output_type": "stream",
               "text": [
                  "E\n",
                  "======================================================================\n",
                  "ERROR: test_gen_alg (__main__.TestGenAlg.test_gen_alg)\n",
                  "----------------------------------------------------------------------\n",
                  "Traceback (most recent call last):\n",
                  "  File \"C:\\Users\\arpan\\AppData\\Local\\Temp\\ipykernel_18904\\4232490171.py\", line 17, in test_gen_alg\n",
                  "    result = gen_alg(self.data, self.target_variable, self.pop_size, self.no_parents_selected, self.iterations, self.mutation_rate)\n",
                  "             ^^^^^^^^^^^^^^^^^^^^^^^^^^^^^^^^^^^^^^^^^^^^^^^^^^^^^^^^^^^^^^^^^^^^^^^^^^^^^^^^^^^^^^^^^^^^^^^^^^^^^^^^^^^^^^^^^^^^^^\n",
                  "  File \"e:\\Optimization\\GA.py\", line 138, in gen_alg\n",
                  "    print(\"iteration:\", z)\n",
                  "              ^^^^^^^^^^^^^\n",
                  "  File \"e:\\Optimization\\GA.py\", line 71, in fittest_parents\n",
                  "    parent_scores = parent_score(population)\n",
                  "                    ^^^^^^^^^^^^^^^^^^^^^^^^\n",
                  "  File \"e:\\Optimization\\GA.py\", line 63, in parent_score\n",
                  "    theta1 = gradient_descend(key, y, learning_rate=0.01, n_iter=1000)\n",
                  "             ^^^^^^^^^^^^^^^^^^^^^^^^^^^^^^^^^^^^^^^^^^^^^^^^^^^^^^^^^\n",
                  "  File \"e:\\Optimization\\GA.py\", line 32, in gradient_descend\n",
                  "    loss = (h - y)\n",
                  "            ~~^~~\n",
                  "  File \"c:\\Users\\arpan\\anaconda3\\Lib\\site-packages\\pandas\\core\\generic.py\", line 2102, in __array_ufunc__\n",
                  "    return arraylike.array_ufunc(self, ufunc, method, *inputs, **kwargs)\n",
                  "           ^^^^^^^^^^^^^^^^^^^^^^^^^^^^^^^^^^^^^^^^^^^^^^^^^^^^^^^^^^^^^\n",
                  "  File \"c:\\Users\\arpan\\anaconda3\\Lib\\site-packages\\pandas\\core\\arraylike.py\", line 273, in array_ufunc\n",
                  "    result = maybe_dispatch_ufunc_to_dunder_op(self, ufunc, method, *inputs, **kwargs)\n",
                  "             ^^^^^^^^^^^^^^^^^^^^^^^^^^^^^^^^^^^^^^^^^^^^^^^^^^^^^^^^^^^^^^^^^^^^^^^^^\n",
                  "  File \"ops_dispatch.pyx\", line 113, in pandas._libs.ops_dispatch.maybe_dispatch_ufunc_to_dunder_op\n",
                  "  File \"c:\\Users\\arpan\\anaconda3\\Lib\\site-packages\\pandas\\core\\ops\\common.py\", line 76, in new_method\n",
                  "    return method(self, other)\n",
                  "           ^^^^^^^^^^^^^^^^^^^\n",
                  "  File \"c:\\Users\\arpan\\anaconda3\\Lib\\site-packages\\pandas\\core\\arraylike.py\", line 198, in __rsub__\n",
                  "    return self._arith_method(other, roperator.rsub)\n",
                  "           ^^^^^^^^^^^^^^^^^^^^^^^^^^^^^^^^^^^^^^^^^\n",
                  "  File \"c:\\Users\\arpan\\anaconda3\\Lib\\site-packages\\pandas\\core\\series.py\", line 5819, in _arith_method\n",
                  "    return base.IndexOpsMixin._arith_method(self, other, op)\n",
                  "           ^^^^^^^^^^^^^^^^^^^^^^^^^^^^^^^^^^^^^^^^^^^^^^^^^\n",
                  "  File \"c:\\Users\\arpan\\anaconda3\\Lib\\site-packages\\pandas\\core\\base.py\", line 1381, in _arith_method\n",
                  "    result = ops.arithmetic_op(lvalues, rvalues, op)\n",
                  "             ^^^^^^^^^^^^^^^^^^^^^^^^^^^^^^^^^^^^^^^\n",
                  "  File \"c:\\Users\\arpan\\anaconda3\\Lib\\site-packages\\pandas\\core\\ops\\array_ops.py\", line 285, in arithmetic_op\n",
                  "    res_values = _na_arithmetic_op(left, right, op)  # type: ignore[arg-type]\n",
                  "                 ^^^^^^^^^^^^^^^^^^^^^^^^^^^^^^^^^^\n",
                  "  File \"c:\\Users\\arpan\\anaconda3\\Lib\\site-packages\\pandas\\core\\ops\\array_ops.py\", line 220, in _na_arithmetic_op\n",
                  "    result = func(left, right)\n",
                  "             ^^^^^^^^^^^^^^^^^\n",
                  "  File \"c:\\Users\\arpan\\anaconda3\\Lib\\site-packages\\pandas\\core\\computation\\expressions.py\", line 242, in evaluate\n",
                  "    return _evaluate(op, op_str, a, b)  # type: ignore[misc]\n",
                  "           ^^^^^^^^^^^^^^^^^^^^^^^^^^^\n",
                  "  File \"c:\\Users\\arpan\\anaconda3\\Lib\\site-packages\\pandas\\core\\computation\\expressions.py\", line 131, in _evaluate_numexpr\n",
                  "    result = _evaluate_standard(op, op_str, a, b)\n",
                  "             ^^^^^^^^^^^^^^^^^^^^^^^^^^^^^^^^^^^^\n",
                  "  File \"c:\\Users\\arpan\\anaconda3\\Lib\\site-packages\\pandas\\core\\computation\\expressions.py\", line 73, in _evaluate_standard\n",
                  "    return op(a, b)\n",
                  "           ^^^^^^^^\n",
                  "  File \"c:\\Users\\arpan\\anaconda3\\Lib\\site-packages\\pandas\\core\\roperator.py\", line 15, in rsub\n",
                  "    return right - left\n",
                  "           ~~~~~~^~~~~~\n",
                  "ValueError: operands could not be broadcast together with shapes (100,) (182,) \n",
                  "\n",
                  "----------------------------------------------------------------------\n",
                  "Ran 1 test in 0.005s\n",
                  "\n",
                  "FAILED (errors=1)\n"
               ]
            },
            {
               "name": "stdout",
               "output_type": "stream",
               "text": [
                  "iteration: 0\n"
               ]
            }
         ],
         "source": [
            "class TestGenAlg(TestCase):\n",
            "    def setUp(self):\n",
            "        # Create a mock dataset\n",
            "        self.data = pd.DataFrame({\n",
            "            'feature1': np.random.rand(100),\n",
            "            'feature2': np.random.rand(100),\n",
            "            'target': np.random.rand(100)\n",
            "        })\n",
            "        self.target_variable = 'target'\n",
            "        self.pop_size = 10\n",
            "        self.no_parents_selected = 5\n",
            "        self.iterations = 10\n",
            "        self.mutation_rate = 0.1\n",
            "\n",
            "    def test_gen_alg(self):\n",
            "        # Run the genetic algorithm\n",
            "        result = gen_alg(self.data, self.target_variable, self.pop_size, self.no_parents_selected, self.iterations, self.mutation_rate)\n",
            "        \n",
            "        # Check if the result is a DataFrame\n",
            "        self.assertIsInstance(result, pd.DataFrame)\n",
            "        \n",
            "        # Check if the result has the same columns as the input data\n",
            "        self.assertListEqual(list(result.columns), list(self.data.columns))\n",
            "        \n",
            "        # Check if the result has at least one row\n",
            "        self.assertGreater(len(result), 0)\n",
            "\n",
            "if __name__ == '__main__':\n",
            "    main(argv=['first-arg-is-ignored'], exit=False)"
         ]
      }
   ],
   "metadata": {
      "kernelspec": {
         "display_name": "base",
         "language": "python",
         "name": "python3"
      },
      "language_info": {
         "codemirror_mode": {
            "name": "ipython",
            "version": 3
         },
         "file_extension": ".py",
         "mimetype": "text/x-python",
         "name": "python",
         "nbconvert_exporter": "python",
         "pygments_lexer": "ipython3",
         "version": "3.11.7"
      }
   },
   "nbformat": 4,
   "nbformat_minor": 5
}
