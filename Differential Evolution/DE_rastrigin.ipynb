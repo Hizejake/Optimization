{
 "cells": [
  {
   "cell_type": "code",
   "execution_count": 1,
   "id": "initial_id",
   "metadata": {
    "ExecuteTime": {
     "end_time": "2024-10-17T11:56:25.500758Z",
     "start_time": "2024-10-17T11:56:25.498552Z"
    },
    "collapsed": true
   },
   "outputs": [],
   "source": [
    "import numpy as np\n",
    "import random"
   ]
  },
  {
   "cell_type": "markdown",
   "id": "b8e2daa74135315b",
   "metadata": {},
   "source": [
    "# Define Rastrigin Function"
   ]
  },
  {
   "cell_type": "code",
   "execution_count": 2,
   "id": "3222486e8850bb6c",
   "metadata": {
    "ExecuteTime": {
     "end_time": "2024-10-17T11:56:25.511546Z",
     "start_time": "2024-10-17T11:56:25.508818Z"
    }
   },
   "outputs": [],
   "source": [
    "def rastrigin(X):\n",
    "    if isinstance(X[0], (int, float)):\n",
    "        X = [[X[i]] for i in range(len(X))]\n",
    "    \n",
    "    val = []\n",
    "    for xi in X:\n",
    "        fx = 10 * len(xi) + sum(np.array(xi) ** 2 - 10 * np.cos(2 * np.pi * np.array(xi)))\n",
    "        val.append(fx)\n",
    "    return np.array(val)"
   ]
  },
  {
   "cell_type": "markdown",
   "id": "e126f119908d8a3f",
   "metadata": {},
   "source": [
    "# Generate Primary Target Vectors"
   ]
  },
  {
   "cell_type": "code",
   "execution_count": 3,
   "id": "5b3966959427bfc",
   "metadata": {
    "ExecuteTime": {
     "end_time": "2024-10-17T11:56:25.556856Z",
     "start_time": "2024-10-17T11:56:25.554500Z"
    }
   },
   "outputs": [],
   "source": [
    "def generate_target(num_variables,population_size,x_min,x_max):\n",
    "    return np.random.randint(x_min,x_max,(population_size,num_variables))   #use uniform instead of randint"
   ]
  },
  {
   "cell_type": "code",
   "execution_count": 4,
   "id": "4b9771b38b202ef0",
   "metadata": {
    "ExecuteTime": {
     "end_time": "2024-10-17T11:56:25.604233Z",
     "start_time": "2024-10-17T11:56:25.601583Z"
    }
   },
   "outputs": [
    {
     "name": "stdout",
     "output_type": "stream",
     "text": [
      "<class 'numpy.ndarray'>\n"
     ]
    }
   ],
   "source": [
    "print(type(generate_target(2,10,-5,5)))"
   ]
  },
  {
   "cell_type": "code",
   "execution_count": 5,
   "id": "3c91d745768cd89b",
   "metadata": {
    "ExecuteTime": {
     "end_time": "2024-10-17T11:56:25.655212Z",
     "start_time": "2024-10-17T11:56:25.651884Z"
    }
   },
   "outputs": [
    {
     "data": {
      "text/plain": [
       "array([ 2.,  2., 26., 17., 18., 26., 20., 32.,  5., 16.])"
      ]
     },
     "execution_count": 5,
     "metadata": {},
     "output_type": "execute_result"
    }
   ],
   "source": [
    "rastrigin(generate_target(2,10,-5,5))"
   ]
  },
  {
   "cell_type": "code",
   "execution_count": 6,
   "id": "7aee4702cd75c88e",
   "metadata": {
    "ExecuteTime": {
     "end_time": "2024-10-17T11:56:25.709569Z",
     "start_time": "2024-10-17T11:56:25.706990Z"
    }
   },
   "outputs": [
    {
     "name": "stdout",
     "output_type": "stream",
     "text": [
      "[array([-1, -4]), array([-4, -3]), array([2, 2]), array([-5,  4]), array([-4, -4]), array([ 1, -2]), array([ 0, -4]), array([ 3, -5]), array([2, 4]), array([2, 2])]\n"
     ]
    }
   ],
   "source": [
    "target = list(generate_target(2,10,-5,5))\n",
    "print(target)"
   ]
  },
  {
   "cell_type": "code",
   "execution_count": 7,
   "id": "80557b28fc35cfa7",
   "metadata": {
    "ExecuteTime": {
     "end_time": "2024-10-17T11:56:25.760070Z",
     "start_time": "2024-10-17T11:56:25.757322Z"
    }
   },
   "outputs": [
    {
     "name": "stdout",
     "output_type": "stream",
     "text": [
      "[-1 -4] [2 4] [-5  4]\n",
      "<class 'numpy.ndarray'>\n"
     ]
    }
   ],
   "source": [
    "x1,x2,x3= random.sample(target,3)\n",
    "print(x1,x2,x3)\n",
    "vector = x1 + .1*(x2-x3)\n",
    "print(type(vector))"
   ]
  },
  {
   "cell_type": "code",
   "execution_count": 8,
   "id": "6a8f99fa5884cba2",
   "metadata": {
    "ExecuteTime": {
     "end_time": "2024-10-17T11:56:25.811496Z",
     "start_time": "2024-10-17T11:56:25.806973Z"
    }
   },
   "outputs": [
    {
     "name": "stdout",
     "output_type": "stream",
     "text": [
      "{(5, 2): 29.0, (-5, -5): 50.0, (2, 2): 8.0, (-3, -5): 34.0, (-4, -3): 25.0, (5, -5): 50.0, (4, 5): 41.0}\n"
     ]
    }
   ],
   "source": [
    "mutant =np.clip(np.array([random.sample(list(target), 3)[0] + 1 * (random.sample(list(target), 3)[1] - random.sample(list(target), 3)[2]) for _ in range(10)]),-5,5)\n",
    "print({tuple(mutant[i]):rastrigin(mutant)[i] for i in range(10)})"
   ]
  },
  {
   "cell_type": "markdown",
   "id": "3cfb095b4e4fc718",
   "metadata": {},
   "source": [
    "# Differential Evolution"
   ]
  },
  {
   "cell_type": "code",
   "execution_count": 13,
   "id": "a1b290db5025a338",
   "metadata": {
    "ExecuteTime": {
     "end_time": "2024-10-17T11:56:25.890719Z",
     "start_time": "2024-10-17T11:56:25.855817Z"
    }
   },
   "outputs": [
    {
     "name": "stderr",
     "output_type": "stream",
     "text": [
      "/tmp/ipykernel_29766/3898687291.py:25: VisibleDeprecationWarning: Creating an ndarray from ragged nested sequences (which is a list-or-tuple of lists-or-tuples-or ndarrays with different lengths or shapes) is deprecated. If you meant to do this, you must specify 'dtype=object' when creating the ndarray.\n",
      "  target = np.array(new_target)\n"
     ]
    },
    {
     "ename": "TypeError",
     "evalue": "unsupported operand type(s) for -: 'tuple' and 'tuple'",
     "output_type": "error",
     "traceback": [
      "\u001b[0;31m---------------------------------------------------------------------------\u001b[0m",
      "\u001b[0;31mTypeError\u001b[0m                                 Traceback (most recent call last)",
      "Cell \u001b[0;32mIn[13], line 29\u001b[0m\n\u001b[1;32m     25\u001b[0m         target \u001b[38;5;241m=\u001b[39m np\u001b[38;5;241m.\u001b[39marray(new_target)\n\u001b[1;32m     27\u001b[0m     \u001b[38;5;28;01mreturn\u001b[39;00m target\n\u001b[0;32m---> 29\u001b[0m diff_evol(\u001b[38;5;241m100\u001b[39m, \u001b[38;5;241m50\u001b[39m, \u001b[38;5;241m2\u001b[39m, \u001b[38;5;241m-\u001b[39m\u001b[38;5;241m5.12\u001b[39m, \u001b[38;5;241m5.12\u001b[39m, \u001b[38;5;241m.5\u001b[39m, \u001b[38;5;241m.5\u001b[39m)\n",
      "Cell \u001b[0;32mIn[13], line 6\u001b[0m, in \u001b[0;36mdiff_evol\u001b[0;34m(num_iterations, population_size, num_variables, x_min, x_max, scale_factor, crossover_probability)\u001b[0m\n\u001b[1;32m      3\u001b[0m trial \u001b[38;5;241m=\u001b[39m np\u001b[38;5;241m.\u001b[39mzeros_like(target)\n\u001b[1;32m      5\u001b[0m \u001b[38;5;28;01mfor\u001b[39;00m i \u001b[38;5;129;01min\u001b[39;00m \u001b[38;5;28mrange\u001b[39m(num_iterations):\n\u001b[0;32m----> 6\u001b[0m     mutant \u001b[38;5;241m=\u001b[39m np\u001b[38;5;241m.\u001b[39mclip(np\u001b[38;5;241m.\u001b[39marray([np\u001b[38;5;241m.\u001b[39marray(random\u001b[38;5;241m.\u001b[39msample(\u001b[38;5;28mlist\u001b[39m(target), \u001b[38;5;241m3\u001b[39m)[\u001b[38;5;241m0\u001b[39m]) \u001b[38;5;241m+\u001b[39m scale_factor \u001b[38;5;241m*\u001b[39m (np\u001b[38;5;241m.\u001b[39marray(random\u001b[38;5;241m.\u001b[39msample(\u001b[38;5;28mlist\u001b[39m(target), \u001b[38;5;241m3\u001b[39m)[\u001b[38;5;241m1\u001b[39m]) \u001b[38;5;241m-\u001b[39m np\u001b[38;5;241m.\u001b[39marray(random\u001b[38;5;241m.\u001b[39msample(\u001b[38;5;28mlist\u001b[39m(target), \u001b[38;5;241m3\u001b[39m)[\u001b[38;5;241m2\u001b[39m])) \u001b[38;5;28;01mfor\u001b[39;00m _ \u001b[38;5;129;01min\u001b[39;00m \u001b[38;5;28mrange\u001b[39m(population_size)]), x_min, x_max)\n\u001b[1;32m      8\u001b[0m     \u001b[38;5;28;01mfor\u001b[39;00m j \u001b[38;5;129;01min\u001b[39;00m \u001b[38;5;28mrange\u001b[39m(num_variables):\n\u001b[1;32m      9\u001b[0m         I_rand \u001b[38;5;241m=\u001b[39m np\u001b[38;5;241m.\u001b[39mrandom\u001b[38;5;241m.\u001b[39mrandint(\u001b[38;5;241m0\u001b[39m, num_variables)\n",
      "Cell \u001b[0;32mIn[13], line 6\u001b[0m, in \u001b[0;36m<listcomp>\u001b[0;34m(.0)\u001b[0m\n\u001b[1;32m      3\u001b[0m trial \u001b[38;5;241m=\u001b[39m np\u001b[38;5;241m.\u001b[39mzeros_like(target)\n\u001b[1;32m      5\u001b[0m \u001b[38;5;28;01mfor\u001b[39;00m i \u001b[38;5;129;01min\u001b[39;00m \u001b[38;5;28mrange\u001b[39m(num_iterations):\n\u001b[0;32m----> 6\u001b[0m     mutant \u001b[38;5;241m=\u001b[39m np\u001b[38;5;241m.\u001b[39mclip(np\u001b[38;5;241m.\u001b[39marray([np\u001b[38;5;241m.\u001b[39marray(random\u001b[38;5;241m.\u001b[39msample(\u001b[38;5;28mlist\u001b[39m(target), \u001b[38;5;241m3\u001b[39m)[\u001b[38;5;241m0\u001b[39m]) \u001b[38;5;241m+\u001b[39m scale_factor \u001b[38;5;241m*\u001b[39m (np\u001b[38;5;241m.\u001b[39marray(random\u001b[38;5;241m.\u001b[39msample(\u001b[38;5;28mlist\u001b[39m(target), \u001b[38;5;241m3\u001b[39m)[\u001b[38;5;241m1\u001b[39m]) \u001b[38;5;241m-\u001b[39m np\u001b[38;5;241m.\u001b[39marray(random\u001b[38;5;241m.\u001b[39msample(\u001b[38;5;28mlist\u001b[39m(target), \u001b[38;5;241m3\u001b[39m)[\u001b[38;5;241m2\u001b[39m])) \u001b[38;5;28;01mfor\u001b[39;00m _ \u001b[38;5;129;01min\u001b[39;00m \u001b[38;5;28mrange\u001b[39m(population_size)]), x_min, x_max)\n\u001b[1;32m      8\u001b[0m     \u001b[38;5;28;01mfor\u001b[39;00m j \u001b[38;5;129;01min\u001b[39;00m \u001b[38;5;28mrange\u001b[39m(num_variables):\n\u001b[1;32m      9\u001b[0m         I_rand \u001b[38;5;241m=\u001b[39m np\u001b[38;5;241m.\u001b[39mrandom\u001b[38;5;241m.\u001b[39mrandint(\u001b[38;5;241m0\u001b[39m, num_variables)\n",
      "\u001b[0;31mTypeError\u001b[0m: unsupported operand type(s) for -: 'tuple' and 'tuple'"
     ]
    }
   ],
   "source": [
    "def diff_evol(num_iterations,population_size,num_variables,x_min,x_max,scale_factor,crossover_probability):\n",
    "    target = generate_target(num_variables,population_size,x_min,x_max)\n",
    "    trial = np.zeros_like(target)\n",
    "    \n",
    "    for i in range(num_iterations):\n",
    "        mutant = np.clip(np.array([np.array(random.sample(list(target), 3)[0]) + scale_factor * (np.array(random.sample(list(target), 3)[1]) - np.array(random.sample(list(target), 3)[2])) for _ in range(population_size)]), x_min, x_max)\n",
    "        \n",
    "        for j in range(num_variables):\n",
    "            I_rand = np.random.randint(0, num_variables)\n",
    "            if np.random.uniform(0, 1) <= crossover_probability or j == I_rand:\n",
    "                trial[j] = mutant[j]\n",
    "            else:\n",
    "                if np.random.uniform(0, 1) > crossover_probability and j != I_rand:\n",
    "                    trial[j] = target[j]\n",
    "                    continue             \n",
    "        \n",
    "        target_dict = {tuple(target[i]): rastrigin(target)[i] for i in range(population_size)}  # Fix: Corrected the dictionary creation\n",
    "        trial_dict = {tuple(trial[i]): rastrigin(trial)[i] for i in range(population_size)}  # Fix: Corrected the dictionary creation\n",
    "        \n",
    "        target_dict.update(trial_dict)\n",
    "        items = list(target_dict.items())\n",
    "        items.sort(key=lambda x: x[1])\n",
    "        new_target = [list(items[0]) for item in items[:population_size]]  # Fix: Extract the first element of each tuple\n",
    "        \n",
    "        target = np.array(new_target)\n",
    "    \n",
    "    return target\n",
    "\n",
    "diff_evol(100, 50, 2, -5.12, 5.12, .5, .5)\n"
   ]
  },
  {
   "cell_type": "code",
   "execution_count": null,
   "id": "e2677d8b3ee01566",
   "metadata": {
    "ExecuteTime": {
     "end_time": "2024-10-17T11:56:26.028693221Z",
     "start_time": "2024-10-17T11:25:16.549358Z"
    }
   },
   "outputs": [],
   "source": []
  }
 ],
 "metadata": {
  "kernelspec": {
   "display_name": "anaconda3_20240804",
   "language": "python",
   "name": "python3"
  },
  "language_info": {
   "codemirror_mode": {
    "name": "ipython",
    "version": 3
   },
   "file_extension": ".py",
   "mimetype": "text/x-python",
   "name": "python",
   "nbconvert_exporter": "python",
   "pygments_lexer": "ipython3",
   "version": "3.11.5"
  }
 },
 "nbformat": 4,
 "nbformat_minor": 5
}
