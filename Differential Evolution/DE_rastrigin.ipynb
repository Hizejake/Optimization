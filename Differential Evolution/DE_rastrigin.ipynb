{
 "cells": [
  {
   "cell_type": "code",
   "execution_count": 1,
   "id": "initial_id",
   "metadata": {
    "ExecuteTime": {
     "end_time": "2024-10-17T11:56:25.500758Z",
     "start_time": "2024-10-17T11:56:25.498552Z"
    },
    "collapsed": true
   },
   "outputs": [],
   "source": [
    "import numpy as np\n",
    "import random"
   ]
  },
  {
   "cell_type": "markdown",
   "id": "b8e2daa74135315b",
   "metadata": {},
   "source": [
    "# Define Rastrigin Function"
   ]
  },
  {
   "cell_type": "code",
   "execution_count": 2,
   "id": "3222486e8850bb6c",
   "metadata": {
    "ExecuteTime": {
     "end_time": "2024-10-17T11:56:25.511546Z",
     "start_time": "2024-10-17T11:56:25.508818Z"
    }
   },
   "outputs": [],
   "source": [
    "def rastrigin(X):\n",
    "    if isinstance(X[0], (int, float)):\n",
    "        X = [[X[i]] for i in range(len(X))]\n",
    "    \n",
    "    val = []\n",
    "    for xi in X:\n",
    "        fx = 10 * len(xi) + sum(np.array(xi) ** 2 - 10 * np.cos(2 * np.pi * np.array(xi)))\n",
    "        val.append(fx)\n",
    "    return np.array(val)"
   ]
  },
  {
   "cell_type": "markdown",
   "id": "e126f119908d8a3f",
   "metadata": {},
   "source": [
    "# Generate Primary Target Vectors"
   ]
  },
  {
   "cell_type": "code",
   "execution_count": 3,
   "id": "5b3966959427bfc",
   "metadata": {
    "ExecuteTime": {
     "end_time": "2024-10-17T11:56:25.556856Z",
     "start_time": "2024-10-17T11:56:25.554500Z"
    }
   },
   "outputs": [],
   "source": [
    "def generate_target(num_variables,population_size,x_min,x_max):\n",
    "    return np.random.uniform(x_min,x_max,(population_size,num_variables))   "
   ]
  },
  {
   "cell_type": "markdown",
   "id": "3cfb095b4e4fc718",
   "metadata": {},
   "source": [
    "# Differential Evolution"
   ]
  },
  {
   "cell_type": "code",
   "execution_count": 5,
   "id": "a1b290db5025a338",
   "metadata": {
    "ExecuteTime": {
     "end_time": "2024-10-17T11:56:25.890719Z",
     "start_time": "2024-10-17T11:56:25.855817Z"
    }
   },
   "outputs": [],
   "source": [
    "def diff_evol(num_iterations, population_size, num_variables, x_min, x_max, scale_factor, crossover_probability):\n",
    "    target = generate_target(num_variables, population_size, x_min, x_max)\n",
    "    trial = np.zeros_like(target)\n",
    "    \n",
    "    for i in range(num_iterations):\n",
    "        mutant = np.clip(np.array([random.sample(list(target), 3)[0] + scale_factor * (random.sample(list(target), 3)[1] - (random.sample(list(target), 3)[2])) for _ in range(population_size)]), x_min, x_max)\n",
    "        \n",
    "        for j in range(population_size):  \n",
    "            I_rand = np.random.randint(0, num_variables)\n",
    "            for k in range(num_variables):  \n",
    "                if np.random.uniform(0, 1) <= crossover_probability or k == I_rand:\n",
    "                    trial[j, k] = mutant[j, k]\n",
    "                else:\n",
    "                    trial[j, k] = target[j, k]\n",
    "        \n",
    "        target_dict = {tuple(target[i]): rastrigin(target)[i] for i in range(population_size)}\n",
    "        trial_dict = {tuple(trial[i]): rastrigin(trial)[i] for i in range(population_size)}\n",
    "        \n",
    "        target_dict.update(trial_dict)\n",
    "        items = target_dict.items()\n",
    "        items = sorted(items, key=lambda x: x[1])\n",
    "        new_target = [np.array(item[0]) for item in items[:population_size]]\n",
    "        \n",
    "        target = np.array(new_target)\n",
    "    \n",
    "    return target[0]"
   ]
  },
  {
   "cell_type": "code",
   "execution_count": 11,
   "id": "e2677d8b3ee01566",
   "metadata": {
    "ExecuteTime": {
     "end_time": "2024-10-17T11:56:26.028693221Z",
     "start_time": "2024-10-17T11:25:16.549358Z"
    }
   },
   "outputs": [],
   "source": [
    "soln = diff_evol(100, 50, 5, -5.12, 5.12, .5, .5)"
   ]
  },
  {
   "cell_type": "code",
   "execution_count": 14,
   "id": "5d854a64",
   "metadata": {},
   "outputs": [
    {
     "data": {
      "text/plain": [
       "array([-6.40152422e-06, -1.91944170e-06,  4.18748740e-06,  4.31676670e-06,\n",
       "       -1.05047741e-06])"
      ]
     },
     "execution_count": 14,
     "metadata": {},
     "output_type": "execute_result"
    }
   ],
   "source": [
    "soln"
   ]
  },
  {
   "cell_type": "code",
   "execution_count": 13,
   "id": "b4147d31",
   "metadata": {},
   "outputs": [
    {
     "data": {
      "text/plain": [
       "array([1.6255612e-08])"
      ]
     },
     "execution_count": 13,
     "metadata": {},
     "output_type": "execute_result"
    }
   ],
   "source": [
    "rastrigin([soln])"
   ]
  }
 ],
 "metadata": {
  "kernelspec": {
   "display_name": "anaconda3_20240804",
   "language": "python",
   "name": "python3"
  },
  "language_info": {
   "codemirror_mode": {
    "name": "ipython",
    "version": 3
   },
   "file_extension": ".py",
   "mimetype": "text/x-python",
   "name": "python",
   "nbconvert_exporter": "python",
   "pygments_lexer": "ipython3",
   "version": "3.11.5"
  }
 },
 "nbformat": 4,
 "nbformat_minor": 5
}
