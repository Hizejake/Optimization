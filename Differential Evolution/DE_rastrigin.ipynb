{
 "cells": [
  {
   "cell_type": "code",
   "id": "initial_id",
   "metadata": {
    "collapsed": true,
    "ExecuteTime": {
     "end_time": "2024-10-17T07:27:27.480274Z",
     "start_time": "2024-10-17T07:27:27.254238Z"
    }
   },
   "source": "import numpy as np",
   "outputs": [],
   "execution_count": 1
  },
  {
   "metadata": {},
   "cell_type": "markdown",
   "source": "# Define Rastrigin Function",
   "id": "b8e2daa74135315b"
  },
  {
   "metadata": {
    "ExecuteTime": {
     "end_time": "2024-10-17T07:27:27.494574Z",
     "start_time": "2024-10-17T07:27:27.489959Z"
    }
   },
   "cell_type": "code",
   "source": [
    "def rastrigin(X):\n",
    "    if isinstance(X[0], (int, float)):\n",
    "        X = [[X[i]] for i in range(len(X))]\n",
    "    \n",
    "    val = []\n",
    "    for xi in X:\n",
    "        fx = 10 * len(xi) + sum(np.array(xi) ** 2 - 10 * np.cos(2 * np.pi * np.array(xi)))\n",
    "        val.append(fx)\n",
    "    return np.array(val)"
   ],
   "id": "3222486e8850bb6c",
   "outputs": [],
   "execution_count": 2
  },
  {
   "metadata": {},
   "cell_type": "markdown",
   "source": "# Generate Primary Target Vectors",
   "id": "e126f119908d8a3f"
  },
  {
   "metadata": {
    "ExecuteTime": {
     "end_time": "2024-10-17T07:27:27.502088Z",
     "start_time": "2024-10-17T07:27:27.498034Z"
    }
   },
   "cell_type": "code",
   "source": [
    "def generate_target(num_variables,population_size,x_min,x_max):\n",
    "    return np.random.randint(x_min,x_max,(population_size,num_variables))"
   ],
   "id": "5b3966959427bfc",
   "outputs": [],
   "execution_count": 3
  },
  {
   "metadata": {
    "ExecuteTime": {
     "end_time": "2024-10-17T07:27:27.518545Z",
     "start_time": "2024-10-17T07:27:27.513741Z"
    }
   },
   "cell_type": "code",
   "source": "print(generate_target(2,10,-5,5))",
   "id": "4b9771b38b202ef0",
   "outputs": [
    {
     "name": "stdout",
     "output_type": "stream",
     "text": [
      "[[-5  1]\n",
      " [-1 -1]\n",
      " [-5  0]\n",
      " [-1 -1]\n",
      " [-4  1]\n",
      " [-2 -2]\n",
      " [-3  1]\n",
      " [ 3  0]\n",
      " [-5  3]\n",
      " [-1  2]]\n"
     ]
    }
   ],
   "execution_count": 4
  },
  {
   "metadata": {
    "ExecuteTime": {
     "end_time": "2024-10-17T07:27:27.748021Z",
     "start_time": "2024-10-17T07:27:27.740667Z"
    }
   },
   "cell_type": "code",
   "source": "rastrigin(generate_target(2,10,-5,5))",
   "id": "3c91d745768cd89b",
   "outputs": [
    {
     "data": {
      "text/plain": [
       "array([13., 25., 13., 41., 13.,  2.,  4., 26., 41.,  8.])"
      ]
     },
     "execution_count": 5,
     "metadata": {},
     "output_type": "execute_result"
    }
   ],
   "execution_count": 5
  },
  {
   "metadata": {},
   "cell_type": "markdown",
   "source": "# Differential Evolution",
   "id": "3cfb095b4e4fc718"
  },
  {
   "metadata": {},
   "cell_type": "code",
   "outputs": [],
   "execution_count": null,
   "source": [
    "def diff_evol(num_iterations,num_variables,population_size,x_min,x_max):\n",
    "    target = generate_target(num_variables,population_size,x_min,x_max)\n",
    "    \n",
    "    for i in range(num_iterations):\n",
    "        dicx = {tuple(target[i]):rastrigin(target)[i] for i in range(num_variables)}\n",
    "        \n",
    "        \n",
    "    \n",
    "    pass"
   ],
   "id": "a1b290db5025a338"
  }
 ],
 "metadata": {
  "kernelspec": {
   "display_name": "Python 3",
   "language": "python",
   "name": "python3"
  },
  "language_info": {
   "codemirror_mode": {
    "name": "ipython",
    "version": 2
   },
   "file_extension": ".py",
   "mimetype": "text/x-python",
   "name": "python",
   "nbconvert_exporter": "python",
   "pygments_lexer": "ipython2",
   "version": "2.7.6"
  }
 },
 "nbformat": 4,
 "nbformat_minor": 5
}
